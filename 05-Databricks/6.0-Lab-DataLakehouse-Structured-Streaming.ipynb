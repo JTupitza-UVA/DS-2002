{
 "cells": [
  {
   "cell_type": "markdown",
   "metadata": {
    "application/vnd.databricks.v1+cell": {
     "cellMetadata": {
      "byteLimit": 2048000,
      "rowLimit": 10000
     },
     "inputWidgets": {},
     "nuid": "4f6cce12-a006-4a6f-aa2d-49ffb1836a2e",
     "showTitle": false,
     "title": ""
    }
   },
   "source": [
    "## Lab 06: Data Lakehouse with Structured Streaming\n",
    "This lab will help you learn to use many of the software libraries and programming techniques required to fulfill the requirements of the final end-of-session capstone project for course **DS-2002: Data Systems**. The spirit of the project is to provide a capstone challenge that requires students to demonstrate a practical and functional understanding of each of the data systems and architectural principles covered throughout the session.\n",
    "\n",
    "**These include:**\n",
    "- Relational Database Management Systems (e.g., MySQL, Microsoft SQL Server, Oracle, IBM DB2)\n",
    "  - Online Transaction Processing Systems (OLTP): *Optimized for High-Volume Write Operations; Normalized to 3rd Normal Form.*\n",
    "  - Online Analytical Processing Systems (OLAP): *Optimized for Read/Aggregation Operations; Dimensional Model (i.e, Star Schema)*\n",
    "- NoSQL *(Not Only SQL)* Systems (e.g., MongoDB, CosmosDB, Cassandra, HBase, Redis)\n",
    "- File System *(Data Lake)* Source Systems (e.g., AWS S3, Microsoft Azure Data Lake Storage)\n",
    "  - Various Datafile Formats (e.g., JSON, CSV, Parquet, Text, Binary)\n",
    "- Massively Parallel Processing *(MPP)* Data Integration Systems (e.g., Apache Spark, Databricks)\n",
    "- Data Integration Patterns (e.g., Extract-Transform-Load, Extract-Load-Transform, Extract-Load-Transform-Load, Lambda & Kappa Architectures)\n",
    "\n",
    "### Section I: Prerequisites\n",
    "\n",
    "#### 1.0. Import Required Libraries"
   ]
  },
  {
   "cell_type": "code",
   "execution_count": 0,
   "metadata": {
    "application/vnd.databricks.v1+cell": {
     "cellMetadata": {
      "byteLimit": 2048000,
      "rowLimit": 10000
     },
     "inputWidgets": {},
     "nuid": "f6a8545c-e396-40dd-a0eb-8fb98663bef7",
     "showTitle": false,
     "title": ""
    }
   },
   "outputs": [],
   "source": [
    "import os\n",
    "import json\n",
    "import pymongo\n",
    "import pyspark.pandas as pd  # This uses Koalas that is included in PySpark version 3.2 or newer.\n",
    "from pyspark.sql.functions import col\n",
    "from pyspark.sql.types import StructType, StructField, StringType, TimestampType, BinaryType\n",
    "from pyspark.sql.types import ByteType, ShortType, IntegerType, LongType, FloatType, DecimalType"
   ]
  },
  {
   "cell_type": "markdown",
   "metadata": {
    "application/vnd.databricks.v1+cell": {
     "cellMetadata": {
      "byteLimit": 2048000,
      "rowLimit": 10000
     },
     "inputWidgets": {},
     "nuid": "3c43fc7d-2918-4270-8595-354881a4e36d",
     "showTitle": false,
     "title": ""
    }
   },
   "source": [
    "#### 2.0. Instantiate Global Variables"
   ]
  },
  {
   "cell_type": "code",
   "execution_count": 0,
   "metadata": {
    "application/vnd.databricks.v1+cell": {
     "cellMetadata": {
      "byteLimit": 2048000,
      "rowLimit": 10000
     },
     "inputWidgets": {},
     "nuid": "ae18ed4a-a051-4249-ac4d-55d27a42b4e5",
     "showTitle": false,
     "title": ""
    }
   },
   "outputs": [
    {
     "output_type": "stream",
     "name": "stdout",
     "output_type": "stream",
     "text": [
      "Out[2]: True"
     ]
    }
   ],
   "source": [
    "# Azure MySQL Server Connection Information ###################\n",
    "jdbc_hostname = \"<server_name>.mysql.database.azure.com\"\n",
    "jdbc_port = 3306\n",
    "src_database = \"northwind_dw2\"\n",
    "\n",
    "connection_properties = {\n",
    "  \"user\" : \"user_name\",\n",
    "  \"password\" : \"password\",\n",
    "  \"driver\" : \"org.mariadb.jdbc.Driver\"\n",
    "}\n",
    "\n",
    "# MongoDB Atlas Connection Information ########################\n",
    "atlas_cluster_name = \"cluster_name.xxxxx\"\n",
    "atlas_database_name = \"northwind_dw2\"\n",
    "atlas_user_name = \"user_name\"\n",
    "atlas_password = \"password\"\n",
    "\n",
    "# Data Files (JSON) Information ###############################\n",
    "dst_database = \"northwind_dlh\"\n",
    "\n",
    "base_dir = \"dbfs:/FileStore/lab_data\"\n",
    "database_dir = f\"{base_dir}/{dst_database}\"\n",
    "\n",
    "data_dir = f\"{base_dir}/retail\"\n",
    "batch_dir = f\"{data_dir}/batch\"\n",
    "stream_dir = f\"{data_dir}/stream\"\n",
    "\n",
    "orders_stream_dir = f\"{stream_dir}/orders\"\n",
    "purchase_orders_stream_dir = f\"{stream_dir}/purchase_orders\"\n",
    "inventory_trans_stream_dir = f\"{stream_dir}/inventory_transactions\"\n",
    "\n",
    "orders_output_bronze = f\"{database_dir}/fact_orders/bronze\"\n",
    "orders_output_silver = f\"{database_dir}/fact_orders/silver\"\n",
    "orders_output_gold   = f\"{database_dir}/fact_orders/gold\"\n",
    "\n",
    "purchase_orders_output_bronze = f\"{database_dir}/fact_purchase_orders/bronze\"\n",
    "purchase_orders_output_silver = f\"{database_dir}/fact_purchase_orders/silver\"\n",
    "purchase_orders_output_gold   = f\"{database_dir}/fact_purchase_orders/gold\"\n",
    "\n",
    "inventory_trans_output_bronze = f\"{database_dir}/fact_inventory_transactions/bronze\"\n",
    "inventory_trans_output_silver = f\"{database_dir}/fact_inventory_transactions/silver\"\n",
    "inventory_trans_output_gold   = f\"{database_dir}/fact_inventory_transactions/gold\"\n",
    "\n",
    "# Delete the Streaming Files ################################## \n",
    "dbutils.fs.rm(f\"{database_dir}/fact_orders\", True) \n",
    "dbutils.fs.rm(f\"{database_dir}/fact_purchase_orders\", True) \n",
    "dbutils.fs.rm(f\"{database_dir}/fact_inventory_transactions\", True)\n",
    "\n",
    "# Delete the Database Files ###################################\n",
    "dbutils.fs.rm(database_dir, True)"
   ]
  },
  {
   "cell_type": "markdown",
   "metadata": {
    "application/vnd.databricks.v1+cell": {
     "cellMetadata": {
      "byteLimit": 2048000,
      "rowLimit": 10000
     },
     "inputWidgets": {},
     "nuid": "4e33d70f-637e-4eb6-a1a8-c00ea26011a5",
     "showTitle": false,
     "title": ""
    }
   },
   "source": [
    "#### 3.0. Define Global Functions"
   ]
  },
  {
   "cell_type": "code",
   "execution_count": 0,
   "metadata": {
    "application/vnd.databricks.v1+cell": {
     "cellMetadata": {
      "byteLimit": 2048000,
      "rowLimit": 10000
     },
     "inputWidgets": {},
     "nuid": "939af89f-638e-44fd-8e58-f88591889f4c",
     "showTitle": false,
     "title": ""
    }
   },
   "outputs": [],
   "source": [
    "##################################################################################################################\n",
    "# Use this Function to Fetch a DataFrame from the MongoDB Atlas database server Using PyMongo.\n",
    "##################################################################################################################\n",
    "def get_mongo_dataframe(user_id, pwd, cluster_name, db_name, collection, conditions, projection, sort):\n",
    "    '''Create a client connection to MongoDB'''\n",
    "    mongo_uri = f\"mongodb+srv://{user_id}:{pwd}@{cluster_name}.mongodb.net/{db_name}\"\n",
    "    \n",
    "    client = pymongo.MongoClient(mongo_uri)\n",
    "\n",
    "    '''Query MongoDB, and fill a python list with documents to create a DataFrame'''\n",
    "    db = client[db_name]\n",
    "    if conditions and projection and sort:\n",
    "        dframe = pd.DataFrame(list(db[collection].find(conditions, projection).sort(sort)))\n",
    "    elif conditions and projection and not sort:\n",
    "        dframe = pd.DataFrame(list(db[collection].find(conditions, projection)))\n",
    "    else:\n",
    "        dframe = pd.DataFrame(list(db[collection].find()))\n",
    "\n",
    "    client.close()\n",
    "    \n",
    "    return dframe\n",
    "\n",
    "##################################################################################################################\n",
    "# Use this Function to Create New Collections by Uploading JSON file(s) to the MongoDB Atlas server.\n",
    "##################################################################################################################\n",
    "def set_mongo_collection(user_id, pwd, cluster_name, db_name, src_file_path, json_files):\n",
    "    '''Create a client connection to MongoDB'''\n",
    "    mongo_uri = f\"mongodb+srv://{user_id}:{pwd}@{cluster_name}.mongodb.net/{db_name}\"\n",
    "    client = pymongo.MongoClient(mongo_uri)\n",
    "    db = client[db_name]\n",
    "    \n",
    "    '''Read in a JSON file, and Use It to Create a New Collection'''\n",
    "    for file in json_files:\n",
    "        db.drop_collection(file)\n",
    "        json_file = os.path.join(src_file_path, json_files[file])\n",
    "        with open(json_file, 'r') as openfile:\n",
    "            json_object = json.load(openfile)\n",
    "            file = db[file]\n",
    "            result = file.insert_many(json_object)\n",
    "\n",
    "    client.close()\n",
    "    \n",
    "    return result"
   ]
  },
  {
   "cell_type": "markdown",
   "metadata": {
    "application/vnd.databricks.v1+cell": {
     "cellMetadata": {
      "byteLimit": 2048000,
      "rowLimit": 10000
     },
     "inputWidgets": {},
     "nuid": "8066e8d6-3626-449d-a985-2fce976d0914",
     "showTitle": false,
     "title": ""
    }
   },
   "source": [
    "### Section II: Populate Dimensions by Ingesting Reference (Cold-path) Data \n",
    "#### 1.0. Fetch Reference Data From an Azure MySQL Database\n",
    "##### 1.1. Create a New Databricks Metadata Database."
   ]
  },
  {
   "cell_type": "code",
   "execution_count": 0,
   "metadata": {
    "application/vnd.databricks.v1+cell": {
     "cellMetadata": {
      "byteLimit": 2048000,
      "implicitDf": true,
      "rowLimit": 10000
     },
     "inputWidgets": {},
     "nuid": "cd70267e-3bc4-4f48-a7ef-4ea4d2dcc3c6",
     "showTitle": false,
     "title": ""
    }
   },
   "outputs": [
    {
     "output_type": "display_data",
     "data": {
      "text/html": [
       "<style scoped>\n",
       "  .table-result-container {\n",
       "    max-height: 300px;\n",
       "    overflow: auto;\n",
       "  }\n",
       "  table, th, td {\n",
       "    border: 1px solid black;\n",
       "    border-collapse: collapse;\n",
       "  }\n",
       "  th, td {\n",
       "    padding: 5px;\n",
       "  }\n",
       "  th {\n",
       "    text-align: left;\n",
       "  }\n",
       "</style><div class='table-result-container'><table class='table-result'><thead style='background-color: white'><tr></tr></thead><tbody></tbody></table></div>"
      ]
     },
     "metadata": {
      "application/vnd.databricks.v1+output": {
       "addedWidgets": {},
       "aggData": [],
       "aggError": "",
       "aggOverflow": false,
       "aggSchema": [],
       "aggSeriesLimitReached": false,
       "aggType": "",
       "arguments": {},
       "columnCustomDisplayInfos": {},
       "data": [],
       "datasetInfos": [],
       "dbfsResultPath": null,
       "isJsonSchema": true,
       "metadata": {},
       "overflow": false,
       "plotOptions": {
        "customPlotOptions": {},
        "displayType": "table",
        "pivotAggregation": null,
        "pivotColumns": null,
        "xColumns": null,
        "yColumns": null
       },
       "removedWidgets": [],
       "schema": [],
       "type": "table"
      }
     },
     "output_type": "display_data"
    }
   ],
   "source": [
    "%sql\n",
    "DROP DATABASE IF EXISTS northwind_dlh CASCADE;"
   ]
  },
  {
   "cell_type": "code",
   "execution_count": 0,
   "metadata": {
    "application/vnd.databricks.v1+cell": {
     "cellMetadata": {
      "byteLimit": 2048000,
      "implicitDf": true,
      "rowLimit": 10000
     },
     "inputWidgets": {},
     "nuid": "8753d7a5-d652-4163-b69f-71355180c93a",
     "showTitle": false,
     "title": ""
    }
   },
   "outputs": [
    {
     "output_type": "display_data",
     "data": {
      "text/html": [
       "<style scoped>\n",
       "  .table-result-container {\n",
       "    max-height: 300px;\n",
       "    overflow: auto;\n",
       "  }\n",
       "  table, th, td {\n",
       "    border: 1px solid black;\n",
       "    border-collapse: collapse;\n",
       "  }\n",
       "  th, td {\n",
       "    padding: 5px;\n",
       "  }\n",
       "  th {\n",
       "    text-align: left;\n",
       "  }\n",
       "</style><div class='table-result-container'><table class='table-result'><thead style='background-color: white'><tr></tr></thead><tbody></tbody></table></div>"
      ]
     },
     "metadata": {
      "application/vnd.databricks.v1+output": {
       "addedWidgets": {},
       "aggData": [],
       "aggError": "",
       "aggOverflow": false,
       "aggSchema": [],
       "aggSeriesLimitReached": false,
       "aggType": "",
       "arguments": {},
       "columnCustomDisplayInfos": {},
       "data": [],
       "datasetInfos": [],
       "dbfsResultPath": null,
       "isJsonSchema": true,
       "metadata": {},
       "overflow": false,
       "plotOptions": {
        "customPlotOptions": {},
        "displayType": "table",
        "pivotAggregation": null,
        "pivotColumns": null,
        "xColumns": null,
        "yColumns": null
       },
       "removedWidgets": [],
       "schema": [],
       "type": "table"
      }
     },
     "output_type": "display_data"
    }
   ],
   "source": [
    "%sql\n",
    "CREATE DATABASE IF NOT EXISTS northwind_dlh\n",
    "COMMENT \"DS-2002 Lab 06 Database\"\n",
    "LOCATION \"dbfs:/FileStore/lab_data/northwind_dlh\"\n",
    "WITH DBPROPERTIES (contains_pii = true, purpose = \"DS-2002 Lab 6.0\");"
   ]
  },
  {
   "cell_type": "markdown",
   "metadata": {
    "application/vnd.databricks.v1+cell": {
     "cellMetadata": {
      "byteLimit": 2048000,
      "rowLimit": 10000
     },
     "inputWidgets": {},
     "nuid": "8b8250c5-9f2b-4b9b-9e3a-6e5fcd2b3aff",
     "showTitle": false,
     "title": ""
    }
   },
   "source": [
    "##### 1.2. Create a New Table that Sources Date Dimension Data from a Table in an Azure MySQL database. "
   ]
  },
  {
   "cell_type": "code",
   "execution_count": 0,
   "metadata": {
    "application/vnd.databricks.v1+cell": {
     "cellMetadata": {
      "byteLimit": 2048000,
      "implicitDf": true,
      "rowLimit": 10000
     },
     "inputWidgets": {},
     "nuid": "7fc64a21-eb30-4d1d-9ed9-9258593d5281",
     "showTitle": false,
     "title": ""
    }
   },
   "outputs": [],
   "source": [
    "%sql\n",
    "CREATE OR REPLACE TEMPORARY VIEW view_date\n",
    "USING org.apache.spark.sql.jdbc\n",
    "OPTIONS (\n",
    "  url \"jdbc:mysql://<server_name>.mysql.database.azure.com:3306/northwind_dw2\", --Replace with your Server Name\n",
    "  dbtable \"dim_date\",\n",
    "  user \"user_name\",    --Replace with your User Name\n",
    "  password \"password\"  --Replace with you password\n",
    ")"
   ]
  },
  {
   "cell_type": "code",
   "execution_count": 0,
   "metadata": {
    "application/vnd.databricks.v1+cell": {
     "cellMetadata": {
      "byteLimit": 2048000,
      "implicitDf": true,
      "rowLimit": 10000
     },
     "inputWidgets": {},
     "nuid": "015675a3-1b74-4f42-b00b-df8b9f2cfa0c",
     "showTitle": false,
     "title": ""
    }
   },
   "outputs": [],
   "source": [
    "%sql\n",
    "USE DATABASE northwind_dlh;\n",
    "\n",
    "CREATE OR REPLACE TABLE northwind_dlh.dim_date\n",
    "COMMENT \"Date Dimension Table\"\n",
    "LOCATION \"dbfs:/FileStore/lab_data/northwind_dlh/dim_date\"\n",
    "AS SELECT * FROM view_date"
   ]
  },
  {
   "cell_type": "code",
   "execution_count": 0,
   "metadata": {
    "application/vnd.databricks.v1+cell": {
     "cellMetadata": {
      "byteLimit": 2048000,
      "implicitDf": true,
      "rowLimit": 10000
     },
     "inputWidgets": {},
     "nuid": "368e6706-b13d-4be4-98dd-16956e85d40b",
     "showTitle": false,
     "title": ""
    }
   },
   "outputs": [],
   "source": [
    "%sql\n",
    "DESCRIBE EXTENDED northwind_dlh.dim_date;"
   ]
  },
  {
   "cell_type": "code",
   "execution_count": 0,
   "metadata": {
    "application/vnd.databricks.v1+cell": {
     "cellMetadata": {
      "byteLimit": 2048000,
      "implicitDf": true,
      "rowLimit": 10000
     },
     "inputWidgets": {},
     "nuid": "7f395402-1acd-49e7-85e7-a47ff0439522",
     "showTitle": false,
     "title": ""
    }
   },
   "outputs": [],
   "source": [
    "%sql\n",
    "SELECT * FROM northwind_dlh.dim_date LIMIT 5"
   ]
  },
  {
   "cell_type": "markdown",
   "metadata": {
    "application/vnd.databricks.v1+cell": {
     "cellMetadata": {
      "byteLimit": 2048000,
      "rowLimit": 10000
     },
     "inputWidgets": {},
     "nuid": "c15f580a-989b-4a6a-bf5c-e50d3a8d3885",
     "showTitle": false,
     "title": ""
    }
   },
   "source": [
    "##### 1.3. Create a New Table that Sources Product Dimension Data from an Azure MySQL database."
   ]
  },
  {
   "cell_type": "code",
   "execution_count": 0,
   "metadata": {
    "application/vnd.databricks.v1+cell": {
     "cellMetadata": {
      "byteLimit": 2048000,
      "implicitDf": true,
      "rowLimit": 10000
     },
     "inputWidgets": {},
     "nuid": "7bb46df0-4476-4cda-86a1-f4cf614113fa",
     "showTitle": false,
     "title": ""
    }
   },
   "outputs": [],
   "source": [
    "%sql\n",
    "-- Create a Temporary View named \"view_product\" that extracts data from your MySQL Northwind database."
   ]
  },
  {
   "cell_type": "code",
   "execution_count": 0,
   "metadata": {
    "application/vnd.databricks.v1+cell": {
     "cellMetadata": {
      "byteLimit": 2048000,
      "implicitDf": true,
      "rowLimit": 10000
     },
     "inputWidgets": {},
     "nuid": "23d0585b-87f4-4f85-affa-3637c5e073f5",
     "showTitle": false,
     "title": ""
    }
   },
   "outputs": [],
   "source": [
    "%sql\n",
    "USE DATABASE northwind_dlh;\n",
    "\n",
    "-- Create a new table named \"northwind_dlh.dim_product\" using data from the view named \"view_product\""
   ]
  },
  {
   "cell_type": "code",
   "execution_count": 0,
   "metadata": {
    "application/vnd.databricks.v1+cell": {
     "cellMetadata": {
      "byteLimit": 2048000,
      "implicitDf": true,
      "rowLimit": 10000
     },
     "inputWidgets": {},
     "nuid": "f6acafaa-98f3-4b1d-9e14-3466c82c1e6a",
     "showTitle": false,
     "title": ""
    }
   },
   "outputs": [],
   "source": [
    "%sql\n",
    "DESCRIBE EXTENDED northwind_dlh.dim_product;"
   ]
  },
  {
   "cell_type": "code",
   "execution_count": 0,
   "metadata": {
    "application/vnd.databricks.v1+cell": {
     "cellMetadata": {
      "byteLimit": 2048000,
      "implicitDf": true,
      "rowLimit": 10000
     },
     "inputWidgets": {},
     "nuid": "fc516608-0ca2-4c2f-b390-e56aca76b87d",
     "showTitle": false,
     "title": ""
    }
   },
   "outputs": [],
   "source": [
    "%sql\n",
    "SELECT * FROM northwind_dlh.dim_product LIMIT 5"
   ]
  },
  {
   "cell_type": "markdown",
   "metadata": {
    "application/vnd.databricks.v1+cell": {
     "cellMetadata": {
      "byteLimit": 2048000,
      "rowLimit": 10000
     },
     "inputWidgets": {},
     "nuid": "5763da8c-b2df-4cfa-83e6-0e05503ddce0",
     "showTitle": false,
     "title": ""
    }
   },
   "source": [
    "#### 2.0. Fetch Reference Data from a MongoDB Atlas Database\n",
    "##### 2.1. View the Data Files on the Databricks File System"
   ]
  },
  {
   "cell_type": "code",
   "execution_count": 0,
   "metadata": {
    "application/vnd.databricks.v1+cell": {
     "cellMetadata": {
      "byteLimit": 2048000,
      "rowLimit": 10000
     },
     "inputWidgets": {},
     "nuid": "fcd0ce73-5fc9-48b1-9ee8-0ffaf402407f",
     "showTitle": false,
     "title": ""
    }
   },
   "outputs": [],
   "source": [
    "display(dbutils.fs.ls(batch_dir))  # '/dbfs/FileStore/lab_data/retail/batch'"
   ]
  },
  {
   "cell_type": "markdown",
   "metadata": {
    "application/vnd.databricks.v1+cell": {
     "cellMetadata": {
      "byteLimit": 2048000,
      "rowLimit": 10000
     },
     "inputWidgets": {},
     "nuid": "0e943953-1c04-43a3-b117-01980bfefbf9",
     "showTitle": false,
     "title": ""
    }
   },
   "source": [
    "##### 2.2. Create a New MongoDB Database, and Load JSON Data Into a New MongoDB Collection\n",
    "**NOTE:** The following cell **can** be run more than once because the **set_mongo_collection()** function **is** idempotent."
   ]
  },
  {
   "cell_type": "code",
   "execution_count": 0,
   "metadata": {
    "application/vnd.databricks.v1+cell": {
     "cellMetadata": {
      "byteLimit": 2048000,
      "rowLimit": 10000
     },
     "inputWidgets": {},
     "nuid": "12764988-6562-4070-af68-697ca403bfe3",
     "showTitle": false,
     "title": ""
    }
   },
   "outputs": [
    {
     "output_type": "display_data",
     "data": {
      "text/plain": [
       "\u001B[0;31m---------------------------------------------------------------------------\u001B[0m\n",
       "\u001B[0;31mNameError\u001B[0m                                 Traceback (most recent call last)\n",
       "\u001B[0;32m<command-4004530187385100>\u001B[0m in \u001B[0;36m<cell line: 4>\u001B[0;34m()\u001B[0m\n",
       "\u001B[1;32m      2\u001B[0m \u001B[0mjson_files\u001B[0m \u001B[0;34m=\u001B[0m \u001B[0;34m{\u001B[0m\u001B[0;34m\"customers\"\u001B[0m \u001B[0;34m:\u001B[0m \u001B[0;34m'Northwind_DimCustomers.json'\u001B[0m\u001B[0;34m,\u001B[0m \u001B[0;34m\"suppliers\"\u001B[0m \u001B[0;34m:\u001B[0m \u001B[0;34m'Northwind_DimSuppliers.json'\u001B[0m\u001B[0;34m,\u001B[0m \u001B[0;34m\"invoices\"\u001B[0m \u001B[0;34m:\u001B[0m \u001B[0;34m'Northwind_DimInvoices.json'\u001B[0m\u001B[0;34m}\u001B[0m\u001B[0;34m\u001B[0m\u001B[0;34m\u001B[0m\u001B[0m\n",
       "\u001B[1;32m      3\u001B[0m \u001B[0;34m\u001B[0m\u001B[0m\n",
       "\u001B[0;32m----> 4\u001B[0;31m \u001B[0mset_mongo_collection\u001B[0m\u001B[0;34m(\u001B[0m\u001B[0matlas_user_name\u001B[0m\u001B[0;34m,\u001B[0m \u001B[0matlas_password\u001B[0m\u001B[0;34m,\u001B[0m \u001B[0matlas_cluster_name\u001B[0m\u001B[0;34m,\u001B[0m \u001B[0matlas_database_name\u001B[0m\u001B[0;34m,\u001B[0m \u001B[0msource_dir\u001B[0m\u001B[0;34m,\u001B[0m \u001B[0mjson_files\u001B[0m\u001B[0;34m)\u001B[0m\u001B[0;34m\u001B[0m\u001B[0;34m\u001B[0m\u001B[0m\n",
       "\u001B[0m\n",
       "\u001B[0;31mNameError\u001B[0m: name 'set_mongo_collection' is not defined"
      ]
     },
     "metadata": {
      "application/vnd.databricks.v1+output": {
       "arguments": {},
       "data": "\u001B[0;31m---------------------------------------------------------------------------\u001B[0m\n\u001B[0;31mNameError\u001B[0m                                 Traceback (most recent call last)\n\u001B[0;32m<command-4004530187385100>\u001B[0m in \u001B[0;36m<cell line: 4>\u001B[0;34m()\u001B[0m\n\u001B[1;32m      2\u001B[0m \u001B[0mjson_files\u001B[0m \u001B[0;34m=\u001B[0m \u001B[0;34m{\u001B[0m\u001B[0;34m\"customers\"\u001B[0m \u001B[0;34m:\u001B[0m \u001B[0;34m'Northwind_DimCustomers.json'\u001B[0m\u001B[0;34m,\u001B[0m \u001B[0;34m\"suppliers\"\u001B[0m \u001B[0;34m:\u001B[0m \u001B[0;34m'Northwind_DimSuppliers.json'\u001B[0m\u001B[0;34m,\u001B[0m \u001B[0;34m\"invoices\"\u001B[0m \u001B[0;34m:\u001B[0m \u001B[0;34m'Northwind_DimInvoices.json'\u001B[0m\u001B[0;34m}\u001B[0m\u001B[0;34m\u001B[0m\u001B[0;34m\u001B[0m\u001B[0m\n\u001B[1;32m      3\u001B[0m \u001B[0;34m\u001B[0m\u001B[0m\n\u001B[0;32m----> 4\u001B[0;31m \u001B[0mset_mongo_collection\u001B[0m\u001B[0;34m(\u001B[0m\u001B[0matlas_user_name\u001B[0m\u001B[0;34m,\u001B[0m \u001B[0matlas_password\u001B[0m\u001B[0;34m,\u001B[0m \u001B[0matlas_cluster_name\u001B[0m\u001B[0;34m,\u001B[0m \u001B[0matlas_database_name\u001B[0m\u001B[0;34m,\u001B[0m \u001B[0msource_dir\u001B[0m\u001B[0;34m,\u001B[0m \u001B[0mjson_files\u001B[0m\u001B[0;34m)\u001B[0m\u001B[0;34m\u001B[0m\u001B[0;34m\u001B[0m\u001B[0m\n\u001B[0m\n\u001B[0;31mNameError\u001B[0m: name 'set_mongo_collection' is not defined",
       "errorSummary": "<span class='ansi-red-fg'>NameError</span>: name 'set_mongo_collection' is not defined",
       "errorTraceType": "ansi",
       "metadata": {},
       "type": "ipynbError"
      }
     },
     "output_type": "display_data"
    }
   ],
   "source": [
    "source_dir = '/dbfs/FileStore/lab_data/retail/batch'\n",
    "json_files = {\"customers\" : 'Northwind_DimCustomers.json'\n",
    "              , \"suppliers\" : 'Northwind_DimSuppliers.json'\n",
    "              , \"invoices\" : 'Northwind_DimInvoices.json'}\n",
    "\n",
    "set_mongo_collection(atlas_user_name, atlas_password, atlas_cluster_name, atlas_database_name, source_dir, json_files) "
   ]
  },
  {
   "cell_type": "markdown",
   "metadata": {
    "application/vnd.databricks.v1+cell": {
     "cellMetadata": {
      "byteLimit": 2048000,
      "rowLimit": 10000
     },
     "inputWidgets": {},
     "nuid": "675d2e83-b51d-48ef-937d-f8beacb86fb6",
     "showTitle": false,
     "title": ""
    }
   },
   "source": [
    "##### 2.3.1. Fetch Customer Dimension Data from the New MongoDB Collection"
   ]
  },
  {
   "cell_type": "code",
   "execution_count": 0,
   "metadata": {
    "application/vnd.databricks.v1+cell": {
     "cellMetadata": {},
     "inputWidgets": {},
     "nuid": "4881e786-3560-425b-8a1a-8601e8de2bf9",
     "showTitle": false,
     "title": ""
    }
   },
   "outputs": [],
   "source": [
    "%scala\n",
    "import com.mongodb.spark._\n",
    "\n",
    "val userName = \"user_name\"\n",
    "val pwd = \"password\"\n",
    "val clusterName = \"cluster_name.xxxxx\"\n",
    "val atlas_uri = s\"mongodb+srv://$userName:$pwd@$clusterName.mongodb.net/?retryWrites=true&w=majority\""
   ]
  },
  {
   "cell_type": "code",
   "execution_count": 0,
   "metadata": {
    "application/vnd.databricks.v1+cell": {
     "cellMetadata": {
      "byteLimit": 2048000,
      "rowLimit": 10000
     },
     "inputWidgets": {},
     "nuid": "c5029015-be65-49ed-b2e7-eb60d22013ca",
     "showTitle": false,
     "title": ""
    }
   },
   "outputs": [
    {
     "output_type": "display_data",
     "data": {
      "text/html": [
       "<style scoped>\n",
       "  .table-result-container {\n",
       "    max-height: 300px;\n",
       "    overflow: auto;\n",
       "  }\n",
       "  table, th, td {\n",
       "    border: 1px solid black;\n",
       "    border-collapse: collapse;\n",
       "  }\n",
       "  th, td {\n",
       "    padding: 5px;\n",
       "  }\n",
       "  th {\n",
       "    text-align: left;\n",
       "  }\n",
       "</style><div class='table-result-container'><table class='table-result'><thead style='background-color: white'><tr><th>customer_key</th><th>company</th><th>last_name</th><th>first_name</th><th>job_title</th><th>business_phone</th><th>fax_number</th><th>address</th><th>city</th><th>state_province</th><th>zip_postal_code</th><th>country_region</th></tr></thead><tbody><tr><td>1</td><td>Company A</td><td>Bedecs</td><td>Anna</td><td>Owner</td><td>(123)555-0100</td><td>(123)555-0101</td><td>123 1st Street</td><td>Seattle</td><td>WA</td><td>99999</td><td>USA</td></tr><tr><td>2</td><td>Company B</td><td>Gratacos Solsona</td><td>Antonio</td><td>Owner</td><td>(123)555-0100</td><td>(123)555-0101</td><td>123 2nd Street</td><td>Boston</td><td>MA</td><td>99999</td><td>USA</td></tr><tr><td>3</td><td>Company C</td><td>Axen</td><td>Thomas</td><td>Purchasing Representative</td><td>(123)555-0100</td><td>(123)555-0101</td><td>123 3rd Street</td><td>Los Angelas</td><td>CA</td><td>99999</td><td>USA</td></tr><tr><td>4</td><td>Company D</td><td>Lee</td><td>Christina</td><td>Purchasing Manager</td><td>(123)555-0100</td><td>(123)555-0101</td><td>123 4th Street</td><td>New York</td><td>NY</td><td>99999</td><td>USA</td></tr><tr><td>5</td><td>Company E</td><td>O’Donnell</td><td>Martin</td><td>Owner</td><td>(123)555-0100</td><td>(123)555-0101</td><td>123 5th Street</td><td>Minneapolis</td><td>MN</td><td>99999</td><td>USA</td></tr><tr><td>6</td><td>Company F</td><td>Pérez-Olaeta</td><td>Francisco</td><td>Purchasing Manager</td><td>(123)555-0100</td><td>(123)555-0101</td><td>123 6th Street</td><td>Milwaukee</td><td>WI</td><td>99999</td><td>USA</td></tr><tr><td>7</td><td>Company G</td><td>Xie</td><td>Ming-Yang</td><td>Owner</td><td>(123)555-0100</td><td>(123)555-0101</td><td>123 7th Street</td><td>Boise</td><td>ID</td><td>99999</td><td>USA</td></tr><tr><td>8</td><td>Company H</td><td>Andersen</td><td>Elizabeth</td><td>Purchasing Representative</td><td>(123)555-0100</td><td>(123)555-0101</td><td>123 8th Street</td><td>Portland</td><td>OR</td><td>99999</td><td>USA</td></tr><tr><td>9</td><td>Company I</td><td>Mortensen</td><td>Sven</td><td>Purchasing Manager</td><td>(123)555-0100</td><td>(123)555-0101</td><td>123 9th Street</td><td>Salt Lake City</td><td>UT</td><td>99999</td><td>USA</td></tr><tr><td>10</td><td>Company J</td><td>Wacker</td><td>Roland</td><td>Purchasing Manager</td><td>(123)555-0100</td><td>(123)555-0101</td><td>123 10th Street</td><td>Chicago</td><td>IL</td><td>99999</td><td>USA</td></tr><tr><td>11</td><td>Company K</td><td>Krschne</td><td>Peter</td><td>Purchasing Manager</td><td>(123)555-0100</td><td>(123)555-0101</td><td>123 11th Street</td><td>Miami</td><td>FL</td><td>99999</td><td>USA</td></tr><tr><td>12</td><td>Company L</td><td>Edwards</td><td>John</td><td>Purchasing Manager</td><td>(123)555-0100</td><td>(123)555-0101</td><td>123 12th Street</td><td>Las Vegas</td><td>NV</td><td>99999</td><td>USA</td></tr><tr><td>13</td><td>Company M</td><td>Ludick</td><td>Andre</td><td>Purchasing Representative</td><td>(123)555-0100</td><td>(123)555-0101</td><td>456 13th Street</td><td>Memphis</td><td>TN</td><td>99999</td><td>USA</td></tr><tr><td>14</td><td>Company N</td><td>Grilo</td><td>Carlos</td><td>Purchasing Representative</td><td>(123)555-0100</td><td>(123)555-0101</td><td>456 14th Street</td><td>Denver</td><td>CO</td><td>99999</td><td>USA</td></tr><tr><td>15</td><td>Company O</td><td>Kupkova</td><td>Helena</td><td>Purchasing Manager</td><td>(123)555-0100</td><td>(123)555-0101</td><td>456 15th Street</td><td>Honolulu</td><td>HI</td><td>99999</td><td>USA</td></tr><tr><td>16</td><td>Company P</td><td>Goldschmidt</td><td>Daniel</td><td>Purchasing Representative</td><td>(123)555-0100</td><td>(123)555-0101</td><td>456 16th Street</td><td>San Francisco</td><td>CA</td><td>99999</td><td>USA</td></tr><tr><td>17</td><td>Company Q</td><td>Bagel</td><td>Jean Philippe</td><td>Owner</td><td>(123)555-0100</td><td>(123)555-0101</td><td>456 17th Street</td><td>Seattle</td><td>WA</td><td>99999</td><td>USA</td></tr><tr><td>18</td><td>Company R</td><td>Autier Miconi</td><td>Catherine</td><td>Purchasing Representative</td><td>(123)555-0100</td><td>(123)555-0101</td><td>456 18th Street</td><td>Boston</td><td>MA</td><td>99999</td><td>USA</td></tr><tr><td>19</td><td>Company S</td><td>Eggerer</td><td>Alexander</td><td>Accounting Assistant</td><td>(123)555-0100</td><td>(123)555-0101</td><td>789 19th Street</td><td>Los Angelas</td><td>CA</td><td>99999</td><td>USA</td></tr><tr><td>20</td><td>Company T</td><td>Li</td><td>George</td><td>Purchasing Manager</td><td>(123)555-0100</td><td>(123)555-0101</td><td>789 20th Street</td><td>New York</td><td>NY</td><td>99999</td><td>USA</td></tr><tr><td>21</td><td>Company U</td><td>Tham</td><td>Bernard</td><td>Accounting Manager</td><td>(123)555-0100</td><td>(123)555-0101</td><td>789 21th Street</td><td>Minneapolis</td><td>MN</td><td>99999</td><td>USA</td></tr><tr><td>22</td><td>Company V</td><td>Ramos</td><td>Luciana</td><td>Purchasing Assistant</td><td>(123)555-0100</td><td>(123)555-0101</td><td>789 22th Street</td><td>Milwaukee</td><td>WI</td><td>99999</td><td>USA</td></tr><tr><td>23</td><td>Company W</td><td>Entin</td><td>Michael</td><td>Purchasing Manager</td><td>(123)555-0100</td><td>(123)555-0101</td><td>789 23th Street</td><td>Portland</td><td>OR</td><td>99999</td><td>USA</td></tr><tr><td>24</td><td>Company X</td><td>Hasselberg</td><td>Jonas</td><td>Owner</td><td>(123)555-0100</td><td>(123)555-0101</td><td>789 24th Street</td><td>Salt Lake City</td><td>UT</td><td>99999</td><td>USA</td></tr><tr><td>25</td><td>Company Y</td><td>Rodman</td><td>John</td><td>Purchasing Manager</td><td>(123)555-0100</td><td>(123)555-0101</td><td>789 25th Street</td><td>Chicago</td><td>IL</td><td>99999</td><td>USA</td></tr><tr><td>26</td><td>Company Z</td><td>Liu</td><td>Run</td><td>Accounting Assistant</td><td>(123)555-0100</td><td>(123)555-0101</td><td>789 26th Street</td><td>Miami</td><td>FL</td><td>99999</td><td>USA</td></tr><tr><td>27</td><td>Company AA</td><td>Toh</td><td>Karen</td><td>Purchasing Manager</td><td>(123)555-0100</td><td>(123)555-0101</td><td>789 27th Street</td><td>Las Vegas</td><td>NV</td><td>99999</td><td>USA</td></tr><tr><td>28</td><td>Company BB</td><td>Raghav</td><td>Amritansh</td><td>Purchasing Manager</td><td>(123)555-0100</td><td>(123)555-0101</td><td>789 28th Street</td><td>Memphis</td><td>TN</td><td>99999</td><td>USA</td></tr><tr><td>29</td><td>Company CC</td><td>Lee</td><td>Soo Jung</td><td>Purchasing Manager</td><td>(123)555-0100</td><td>(123)555-0101</td><td>789 29th Street</td><td>Denver</td><td>CO</td><td>99999</td><td>USA</td></tr></tbody></table></div>"
      ]
     },
     "metadata": {
      "application/vnd.databricks.v1+output": {
       "addedWidgets": {},
       "aggData": [],
       "aggError": "",
       "aggOverflow": false,
       "aggSchema": [],
       "aggSeriesLimitReached": false,
       "aggType": "",
       "arguments": {},
       "columnCustomDisplayInfos": {},
       "data": [
        [
         1,
         "Company A",
         "Bedecs",
         "Anna",
         "Owner",
         "(123)555-0100",
         "(123)555-0101",
         "123 1st Street",
         "Seattle",
         "WA",
         "99999",
         "USA"
        ],
        [
         2,
         "Company B",
         "Gratacos Solsona",
         "Antonio",
         "Owner",
         "(123)555-0100",
         "(123)555-0101",
         "123 2nd Street",
         "Boston",
         "MA",
         "99999",
         "USA"
        ],
        [
         3,
         "Company C",
         "Axen",
         "Thomas",
         "Purchasing Representative",
         "(123)555-0100",
         "(123)555-0101",
         "123 3rd Street",
         "Los Angelas",
         "CA",
         "99999",
         "USA"
        ],
        [
         4,
         "Company D",
         "Lee",
         "Christina",
         "Purchasing Manager",
         "(123)555-0100",
         "(123)555-0101",
         "123 4th Street",
         "New York",
         "NY",
         "99999",
         "USA"
        ],
        [
         5,
         "Company E",
         "O’Donnell",
         "Martin",
         "Owner",
         "(123)555-0100",
         "(123)555-0101",
         "123 5th Street",
         "Minneapolis",
         "MN",
         "99999",
         "USA"
        ],
        [
         6,
         "Company F",
         "Pérez-Olaeta",
         "Francisco",
         "Purchasing Manager",
         "(123)555-0100",
         "(123)555-0101",
         "123 6th Street",
         "Milwaukee",
         "WI",
         "99999",
         "USA"
        ],
        [
         7,
         "Company G",
         "Xie",
         "Ming-Yang",
         "Owner",
         "(123)555-0100",
         "(123)555-0101",
         "123 7th Street",
         "Boise",
         "ID",
         "99999",
         "USA"
        ],
        [
         8,
         "Company H",
         "Andersen",
         "Elizabeth",
         "Purchasing Representative",
         "(123)555-0100",
         "(123)555-0101",
         "123 8th Street",
         "Portland",
         "OR",
         "99999",
         "USA"
        ],
        [
         9,
         "Company I",
         "Mortensen",
         "Sven",
         "Purchasing Manager",
         "(123)555-0100",
         "(123)555-0101",
         "123 9th Street",
         "Salt Lake City",
         "UT",
         "99999",
         "USA"
        ],
        [
         10,
         "Company J",
         "Wacker",
         "Roland",
         "Purchasing Manager",
         "(123)555-0100",
         "(123)555-0101",
         "123 10th Street",
         "Chicago",
         "IL",
         "99999",
         "USA"
        ],
        [
         11,
         "Company K",
         "Krschne",
         "Peter",
         "Purchasing Manager",
         "(123)555-0100",
         "(123)555-0101",
         "123 11th Street",
         "Miami",
         "FL",
         "99999",
         "USA"
        ],
        [
         12,
         "Company L",
         "Edwards",
         "John",
         "Purchasing Manager",
         "(123)555-0100",
         "(123)555-0101",
         "123 12th Street",
         "Las Vegas",
         "NV",
         "99999",
         "USA"
        ],
        [
         13,
         "Company M",
         "Ludick",
         "Andre",
         "Purchasing Representative",
         "(123)555-0100",
         "(123)555-0101",
         "456 13th Street",
         "Memphis",
         "TN",
         "99999",
         "USA"
        ],
        [
         14,
         "Company N",
         "Grilo",
         "Carlos",
         "Purchasing Representative",
         "(123)555-0100",
         "(123)555-0101",
         "456 14th Street",
         "Denver",
         "CO",
         "99999",
         "USA"
        ],
        [
         15,
         "Company O",
         "Kupkova",
         "Helena",
         "Purchasing Manager",
         "(123)555-0100",
         "(123)555-0101",
         "456 15th Street",
         "Honolulu",
         "HI",
         "99999",
         "USA"
        ],
        [
         16,
         "Company P",
         "Goldschmidt",
         "Daniel",
         "Purchasing Representative",
         "(123)555-0100",
         "(123)555-0101",
         "456 16th Street",
         "San Francisco",
         "CA",
         "99999",
         "USA"
        ],
        [
         17,
         "Company Q",
         "Bagel",
         "Jean Philippe",
         "Owner",
         "(123)555-0100",
         "(123)555-0101",
         "456 17th Street",
         "Seattle",
         "WA",
         "99999",
         "USA"
        ],
        [
         18,
         "Company R",
         "Autier Miconi",
         "Catherine",
         "Purchasing Representative",
         "(123)555-0100",
         "(123)555-0101",
         "456 18th Street",
         "Boston",
         "MA",
         "99999",
         "USA"
        ],
        [
         19,
         "Company S",
         "Eggerer",
         "Alexander",
         "Accounting Assistant",
         "(123)555-0100",
         "(123)555-0101",
         "789 19th Street",
         "Los Angelas",
         "CA",
         "99999",
         "USA"
        ],
        [
         20,
         "Company T",
         "Li",
         "George",
         "Purchasing Manager",
         "(123)555-0100",
         "(123)555-0101",
         "789 20th Street",
         "New York",
         "NY",
         "99999",
         "USA"
        ],
        [
         21,
         "Company U",
         "Tham",
         "Bernard",
         "Accounting Manager",
         "(123)555-0100",
         "(123)555-0101",
         "789 21th Street",
         "Minneapolis",
         "MN",
         "99999",
         "USA"
        ],
        [
         22,
         "Company V",
         "Ramos",
         "Luciana",
         "Purchasing Assistant",
         "(123)555-0100",
         "(123)555-0101",
         "789 22th Street",
         "Milwaukee",
         "WI",
         "99999",
         "USA"
        ],
        [
         23,
         "Company W",
         "Entin",
         "Michael",
         "Purchasing Manager",
         "(123)555-0100",
         "(123)555-0101",
         "789 23th Street",
         "Portland",
         "OR",
         "99999",
         "USA"
        ],
        [
         24,
         "Company X",
         "Hasselberg",
         "Jonas",
         "Owner",
         "(123)555-0100",
         "(123)555-0101",
         "789 24th Street",
         "Salt Lake City",
         "UT",
         "99999",
         "USA"
        ],
        [
         25,
         "Company Y",
         "Rodman",
         "John",
         "Purchasing Manager",
         "(123)555-0100",
         "(123)555-0101",
         "789 25th Street",
         "Chicago",
         "IL",
         "99999",
         "USA"
        ],
        [
         26,
         "Company Z",
         "Liu",
         "Run",
         "Accounting Assistant",
         "(123)555-0100",
         "(123)555-0101",
         "789 26th Street",
         "Miami",
         "FL",
         "99999",
         "USA"
        ],
        [
         27,
         "Company AA",
         "Toh",
         "Karen",
         "Purchasing Manager",
         "(123)555-0100",
         "(123)555-0101",
         "789 27th Street",
         "Las Vegas",
         "NV",
         "99999",
         "USA"
        ],
        [
         28,
         "Company BB",
         "Raghav",
         "Amritansh",
         "Purchasing Manager",
         "(123)555-0100",
         "(123)555-0101",
         "789 28th Street",
         "Memphis",
         "TN",
         "99999",
         "USA"
        ],
        [
         29,
         "Company CC",
         "Lee",
         "Soo Jung",
         "Purchasing Manager",
         "(123)555-0100",
         "(123)555-0101",
         "789 29th Street",
         "Denver",
         "CO",
         "99999",
         "USA"
        ]
       ],
       "datasetInfos": [
        {
         "name": "df_customer",
         "schema": {
          "fields": [
           {
            "metadata": {},
            "name": "customer_key",
            "nullable": true,
            "type": "integer"
           },
           {
            "metadata": {},
            "name": "company",
            "nullable": true,
            "type": "string"
           },
           {
            "metadata": {},
            "name": "last_name",
            "nullable": true,
            "type": "string"
           },
           {
            "metadata": {},
            "name": "first_name",
            "nullable": true,
            "type": "string"
           },
           {
            "metadata": {},
            "name": "job_title",
            "nullable": true,
            "type": "string"
           },
           {
            "metadata": {},
            "name": "business_phone",
            "nullable": true,
            "type": "string"
           },
           {
            "metadata": {},
            "name": "fax_number",
            "nullable": true,
            "type": "string"
           },
           {
            "metadata": {},
            "name": "address",
            "nullable": true,
            "type": "string"
           },
           {
            "metadata": {},
            "name": "city",
            "nullable": true,
            "type": "string"
           },
           {
            "metadata": {},
            "name": "state_province",
            "nullable": true,
            "type": "string"
           },
           {
            "metadata": {},
            "name": "zip_postal_code",
            "nullable": true,
            "type": "string"
           },
           {
            "metadata": {},
            "name": "country_region",
            "nullable": true,
            "type": "string"
           }
          ],
          "type": "struct"
         },
         "tableIdentifier": null,
         "typeStr": "org.apache.spark.sql.DataFrame"
        }
       ],
       "dbfsResultPath": null,
       "isJsonSchema": true,
       "metadata": {
        "isDbfsCommandResult": false
       },
       "overflow": false,
       "plotOptions": {
        "customPlotOptions": {},
        "displayType": "table",
        "pivotAggregation": null,
        "pivotColumns": null,
        "xColumns": null,
        "yColumns": null
       },
       "removedWidgets": [],
       "schema": [
        {
         "metadata": "{}",
         "name": "customer_key",
         "type": "\"integer\""
        },
        {
         "metadata": "{}",
         "name": "company",
         "type": "\"string\""
        },
        {
         "metadata": "{}",
         "name": "last_name",
         "type": "\"string\""
        },
        {
         "metadata": "{}",
         "name": "first_name",
         "type": "\"string\""
        },
        {
         "metadata": "{}",
         "name": "job_title",
         "type": "\"string\""
        },
        {
         "metadata": "{}",
         "name": "business_phone",
         "type": "\"string\""
        },
        {
         "metadata": "{}",
         "name": "fax_number",
         "type": "\"string\""
        },
        {
         "metadata": "{}",
         "name": "address",
         "type": "\"string\""
        },
        {
         "metadata": "{}",
         "name": "city",
         "type": "\"string\""
        },
        {
         "metadata": "{}",
         "name": "state_province",
         "type": "\"string\""
        },
        {
         "metadata": "{}",
         "name": "zip_postal_code",
         "type": "\"string\""
        },
        {
         "metadata": "{}",
         "name": "country_region",
         "type": "\"string\""
        }
       ],
       "type": "table"
      }
     },
     "output_type": "display_data"
    }
   ],
   "source": [
    "%scala\n",
    "\n",
    "val df_customer = spark.read.format(\"com.mongodb.spark.sql.DefaultSource\")\n",
    ".option(\"spark.mongodb.input.uri\", atlas_uri)\n",
    ".option(\"database\", \"northwind_dw2\")\n",
    ".option(\"collection\", \"customers\").load()\n",
    ".select(\"customer_key\",\"company\",\"last_name\",\"first_name\",\"job_title\",\"business_phone\",\"fax_number\",\"address\",\"city\",\"state_province\",\"zip_postal_code\",\"country_region\")\n",
    "\n",
    "display(df_customer)"
   ]
  },
  {
   "cell_type": "code",
   "execution_count": 0,
   "metadata": {
    "application/vnd.databricks.v1+cell": {
     "cellMetadata": {
      "byteLimit": 2048000,
      "rowLimit": 10000
     },
     "inputWidgets": {},
     "nuid": "4d62a4b0-3071-400f-8bbb-5a89f3c91d5c",
     "showTitle": false,
     "title": ""
    }
   },
   "outputs": [],
   "source": [
    "%scala\n",
    "df_customer.printSchema()"
   ]
  },
  {
   "cell_type": "markdown",
   "metadata": {
    "application/vnd.databricks.v1+cell": {
     "cellMetadata": {
      "byteLimit": 2048000,
      "rowLimit": 10000
     },
     "inputWidgets": {},
     "nuid": "179f0875-98bd-4988-bfa5-af82d0181eb6",
     "showTitle": false,
     "title": ""
    }
   },
   "source": [
    "##### 2.3.2. Use the Spark DataFrame to Create a New Customer Dimension Table in the Databricks Metadata Database (northwind_dlh)"
   ]
  },
  {
   "cell_type": "code",
   "execution_count": 0,
   "metadata": {
    "application/vnd.databricks.v1+cell": {
     "cellMetadata": {
      "byteLimit": 2048000,
      "rowLimit": 10000
     },
     "inputWidgets": {},
     "nuid": "2de15218-dfa0-4ec1-ab3f-243d650b86b4",
     "showTitle": false,
     "title": ""
    }
   },
   "outputs": [],
   "source": [
    "%scala\n",
    "df_customer.write.format(\"delta\").mode(\"overwrite\").saveAsTable(\"northwind_dlh.dim_customer\")"
   ]
  },
  {
   "cell_type": "code",
   "execution_count": 0,
   "metadata": {
    "application/vnd.databricks.v1+cell": {
     "cellMetadata": {
      "byteLimit": 2048000,
      "implicitDf": true,
      "rowLimit": 10000
     },
     "inputWidgets": {},
     "nuid": "62999814-4e3e-4bb1-aac1-7ef79266c22d",
     "showTitle": false,
     "title": ""
    }
   },
   "outputs": [],
   "source": [
    "%sql\n",
    "DESCRIBE EXTENDED northwind_dlh.dim_customer"
   ]
  },
  {
   "cell_type": "code",
   "execution_count": 0,
   "metadata": {
    "application/vnd.databricks.v1+cell": {
     "cellMetadata": {
      "byteLimit": 2048000,
      "implicitDf": true,
      "rowLimit": 10000
     },
     "inputWidgets": {},
     "nuid": "d4924a30-ad66-424c-b511-19cbfaefe93e",
     "showTitle": false,
     "title": ""
    }
   },
   "outputs": [],
   "source": [
    "%sql\n",
    "SELECT * FROM northwind_dlh.dim_customer LIMIT 5"
   ]
  },
  {
   "cell_type": "markdown",
   "metadata": {
    "application/vnd.databricks.v1+cell": {
     "cellMetadata": {
      "byteLimit": 2048000,
      "rowLimit": 10000
     },
     "inputWidgets": {},
     "nuid": "8b52ecae-78cd-4dce-a974-f052dbe9b9bf",
     "showTitle": false,
     "title": ""
    }
   },
   "source": [
    "##### 2.4.1 Fetch Supplier Dimension Data from the New MongoDB Collection"
   ]
  },
  {
   "cell_type": "code",
   "execution_count": 0,
   "metadata": {
    "application/vnd.databricks.v1+cell": {
     "cellMetadata": {
      "byteLimit": 2048000,
      "rowLimit": 10000
     },
     "inputWidgets": {},
     "nuid": "73350185-ce36-49ed-86e0-041f2d12d289",
     "showTitle": false,
     "title": ""
    }
   },
   "outputs": [],
   "source": [
    "%scala"
   ]
  },
  {
   "cell_type": "code",
   "execution_count": 0,
   "metadata": {
    "application/vnd.databricks.v1+cell": {
     "cellMetadata": {
      "byteLimit": 2048000,
      "rowLimit": 10000
     },
     "inputWidgets": {},
     "nuid": "a37d21b2-511b-4553-837a-b957094d9db8",
     "showTitle": false,
     "title": ""
    }
   },
   "outputs": [],
   "source": [
    "%scala\n",
    "df_supplier.printSchema()"
   ]
  },
  {
   "cell_type": "markdown",
   "metadata": {
    "application/vnd.databricks.v1+cell": {
     "cellMetadata": {
      "byteLimit": 2048000,
      "rowLimit": 10000
     },
     "inputWidgets": {},
     "nuid": "ca79d2c6-6a92-460d-b163-cdbe81c555a9",
     "showTitle": false,
     "title": ""
    }
   },
   "source": [
    "##### 2.4.2. Use the Spark DataFrame to Create a New Suppliers Dimension Table in the Databricks Metadata Database (northwind_dlh)"
   ]
  },
  {
   "cell_type": "code",
   "execution_count": 0,
   "metadata": {
    "application/vnd.databricks.v1+cell": {
     "cellMetadata": {
      "byteLimit": 2048000,
      "rowLimit": 10000
     },
     "inputWidgets": {},
     "nuid": "0766bc0c-2e6c-4d3e-8879-b9b4fae5f3d8",
     "showTitle": false,
     "title": ""
    }
   },
   "outputs": [],
   "source": [
    "%scala"
   ]
  },
  {
   "cell_type": "code",
   "execution_count": 0,
   "metadata": {
    "application/vnd.databricks.v1+cell": {
     "cellMetadata": {
      "byteLimit": 2048000,
      "implicitDf": true,
      "rowLimit": 10000
     },
     "inputWidgets": {},
     "nuid": "bfbe73eb-d32b-4685-aa6a-ecce737d8b63",
     "showTitle": false,
     "title": ""
    }
   },
   "outputs": [],
   "source": [
    "%sql\n",
    "DESCRIBE EXTENDED northwind_dlh.dim_supplier"
   ]
  },
  {
   "cell_type": "code",
   "execution_count": 0,
   "metadata": {
    "application/vnd.databricks.v1+cell": {
     "cellMetadata": {
      "byteLimit": 2048000,
      "implicitDf": true,
      "rowLimit": 10000
     },
     "inputWidgets": {},
     "nuid": "7c3d611c-95e5-406d-b8da-dd17e797a018",
     "showTitle": false,
     "title": ""
    }
   },
   "outputs": [],
   "source": [
    "%sql\n",
    "SELECT * FROM northwind_dlh.dim_supplier LIMIT 5"
   ]
  },
  {
   "cell_type": "markdown",
   "metadata": {
    "application/vnd.databricks.v1+cell": {
     "cellMetadata": {
      "byteLimit": 2048000,
      "rowLimit": 10000
     },
     "inputWidgets": {},
     "nuid": "5dca49d6-6644-4968-b821-492ad3bd3003",
     "showTitle": false,
     "title": ""
    }
   },
   "source": [
    "##### 2.5.1 Fetch Invoice Dimension Data from teh New MongoDB Collection"
   ]
  },
  {
   "cell_type": "code",
   "execution_count": 0,
   "metadata": {
    "application/vnd.databricks.v1+cell": {
     "cellMetadata": {
      "byteLimit": 2048000,
      "rowLimit": 10000
     },
     "inputWidgets": {},
     "nuid": "b9caebb6-5c7f-4cc7-998b-0044bdcfa8b2",
     "showTitle": false,
     "title": ""
    }
   },
   "outputs": [],
   "source": [
    "%scala"
   ]
  },
  {
   "cell_type": "code",
   "execution_count": 0,
   "metadata": {
    "application/vnd.databricks.v1+cell": {
     "cellMetadata": {
      "byteLimit": 2048000,
      "rowLimit": 10000
     },
     "inputWidgets": {},
     "nuid": "cb0cce12-7995-4ad6-9e3f-0148260c3244",
     "showTitle": false,
     "title": ""
    }
   },
   "outputs": [],
   "source": [
    "%scala\n",
    "df_invoice.printSchema()"
   ]
  },
  {
   "cell_type": "markdown",
   "metadata": {
    "application/vnd.databricks.v1+cell": {
     "cellMetadata": {
      "byteLimit": 2048000,
      "rowLimit": 10000
     },
     "inputWidgets": {},
     "nuid": "728760ad-f138-4e2f-bba1-80b79eccb257",
     "showTitle": false,
     "title": ""
    }
   },
   "source": [
    "##### 2.5.2. Use the Spark DataFrame to Create a New Invoices Dimension Table in the Databricks Metadata Database (northwind_dlh)"
   ]
  },
  {
   "cell_type": "code",
   "execution_count": 0,
   "metadata": {
    "application/vnd.databricks.v1+cell": {
     "cellMetadata": {
      "byteLimit": 2048000,
      "rowLimit": 10000
     },
     "inputWidgets": {},
     "nuid": "736a6a8d-19b8-43a0-ab42-1e5a49bfea8a",
     "showTitle": false,
     "title": ""
    }
   },
   "outputs": [],
   "source": [
    "%scala"
   ]
  },
  {
   "cell_type": "code",
   "execution_count": 0,
   "metadata": {
    "application/vnd.databricks.v1+cell": {
     "cellMetadata": {
      "byteLimit": 2048000,
      "implicitDf": true,
      "rowLimit": 10000
     },
     "inputWidgets": {},
     "nuid": "5a260fd6-e930-4e66-872d-6dda13c9283e",
     "showTitle": false,
     "title": ""
    }
   },
   "outputs": [],
   "source": [
    "%sql\n",
    "DESCRIBE EXTENDED northwind_dlh.dim_invoice"
   ]
  },
  {
   "cell_type": "code",
   "execution_count": 0,
   "metadata": {
    "application/vnd.databricks.v1+cell": {
     "cellMetadata": {
      "byteLimit": 2048000,
      "implicitDf": true,
      "rowLimit": 10000
     },
     "inputWidgets": {},
     "nuid": "030bba66-4265-493e-93c9-b6449d29ee16",
     "showTitle": false,
     "title": ""
    }
   },
   "outputs": [],
   "source": [
    "%sql\n",
    "SELECT * FROM northwind_dlh.dim_invoice LIMIT 5"
   ]
  },
  {
   "cell_type": "markdown",
   "metadata": {
    "application/vnd.databricks.v1+cell": {
     "cellMetadata": {
      "byteLimit": 2048000,
      "rowLimit": 10000
     },
     "inputWidgets": {},
     "nuid": "9936b98e-53e2-4f75-9db5-9bbefad735fe",
     "showTitle": false,
     "title": ""
    }
   },
   "source": [
    "#### 3.0. Fetch Data from a File System\n",
    "##### 3.1. Use PySpark to Read From a CSV File"
   ]
  },
  {
   "cell_type": "code",
   "execution_count": 0,
   "metadata": {
    "application/vnd.databricks.v1+cell": {
     "cellMetadata": {
      "byteLimit": 2048000,
      "rowLimit": 10000
     },
     "inputWidgets": {},
     "nuid": "b47c7ad8-a57b-46ca-a734-9bbf271cf0bf",
     "showTitle": false,
     "title": ""
    }
   },
   "outputs": [],
   "source": [
    "employee_csv = f\"{batch_dir}/Northwind_DimEmployees.csv\"\n",
    "\n",
    "df_employee = spark.read.format('csv').options(header='true', inferSchema='true').load(employee_csv)\n",
    "display(df_employee)"
   ]
  },
  {
   "cell_type": "code",
   "execution_count": 0,
   "metadata": {
    "application/vnd.databricks.v1+cell": {
     "cellMetadata": {
      "byteLimit": 2048000,
      "rowLimit": 10000
     },
     "inputWidgets": {},
     "nuid": "12852bc5-3ebd-4ef8-a96b-8b25516ccbea",
     "showTitle": false,
     "title": ""
    }
   },
   "outputs": [],
   "source": [
    "df_employee.printSchema()"
   ]
  },
  {
   "cell_type": "code",
   "execution_count": 0,
   "metadata": {
    "application/vnd.databricks.v1+cell": {
     "cellMetadata": {
      "byteLimit": 2048000,
      "rowLimit": 10000
     },
     "inputWidgets": {},
     "nuid": "199f4806-101a-41bf-ac54-b8ec2b8c4935",
     "showTitle": false,
     "title": ""
    }
   },
   "outputs": [],
   "source": [
    "df_employee.write.format(\"delta\").mode(\"overwrite\").saveAsTable(\"northwind_dlh.dim_employee\")"
   ]
  },
  {
   "cell_type": "code",
   "execution_count": 0,
   "metadata": {
    "application/vnd.databricks.v1+cell": {
     "cellMetadata": {
      "byteLimit": 2048000,
      "implicitDf": true,
      "rowLimit": 10000
     },
     "inputWidgets": {},
     "nuid": "cb7e6ae7-5c04-4c46-a49f-bbdaa975ccc6",
     "showTitle": false,
     "title": ""
    }
   },
   "outputs": [],
   "source": [
    "%sql\n",
    "DESCRIBE EXTENDED northwind_dlh.dim_employee;"
   ]
  },
  {
   "cell_type": "code",
   "execution_count": 0,
   "metadata": {
    "application/vnd.databricks.v1+cell": {
     "cellMetadata": {
      "byteLimit": 2048000,
      "implicitDf": true,
      "rowLimit": 10000
     },
     "inputWidgets": {},
     "nuid": "c0e93baa-868a-4ea0-b168-df44c2527f17",
     "showTitle": false,
     "title": ""
    }
   },
   "outputs": [],
   "source": [
    "%sql\n",
    "SELECT * FROM northwind_dlh.dim_employee LIMIT 5;"
   ]
  },
  {
   "cell_type": "markdown",
   "metadata": {
    "application/vnd.databricks.v1+cell": {
     "cellMetadata": {
      "byteLimit": 2048000,
      "rowLimit": 10000
     },
     "inputWidgets": {},
     "nuid": "4f16bed2-735a-4fb4-a8e3-14952976a618",
     "showTitle": false,
     "title": ""
    }
   },
   "source": [
    "##### 3.2 Use PySpark to Read Shipper Dimension Data from CSV File"
   ]
  },
  {
   "cell_type": "code",
   "execution_count": 0,
   "metadata": {
    "application/vnd.databricks.v1+cell": {
     "cellMetadata": {
      "byteLimit": 2048000,
      "rowLimit": 10000
     },
     "inputWidgets": {},
     "nuid": "75129b67-0db6-48cb-8e3b-0323cc4a429a",
     "showTitle": false,
     "title": ""
    }
   },
   "outputs": [],
   "source": []
  },
  {
   "cell_type": "code",
   "execution_count": 0,
   "metadata": {
    "application/vnd.databricks.v1+cell": {
     "cellMetadata": {
      "byteLimit": 2048000,
      "rowLimit": 10000
     },
     "inputWidgets": {},
     "nuid": "a2a25d2a-481e-4022-acbb-425460b5b8cc",
     "showTitle": false,
     "title": ""
    }
   },
   "outputs": [],
   "source": [
    "df_shipper.printSchema()"
   ]
  },
  {
   "cell_type": "code",
   "execution_count": 0,
   "metadata": {
    "application/vnd.databricks.v1+cell": {
     "cellMetadata": {
      "byteLimit": 2048000,
      "rowLimit": 10000
     },
     "inputWidgets": {},
     "nuid": "36999c8d-4ce0-47f8-b6bc-d40817d135dd",
     "showTitle": false,
     "title": ""
    }
   },
   "outputs": [],
   "source": []
  },
  {
   "cell_type": "code",
   "execution_count": 0,
   "metadata": {
    "application/vnd.databricks.v1+cell": {
     "cellMetadata": {
      "byteLimit": 2048000,
      "implicitDf": true,
      "rowLimit": 10000
     },
     "inputWidgets": {},
     "nuid": "e3f857ae-fedf-4984-ae51-a5006fe774d7",
     "showTitle": false,
     "title": ""
    }
   },
   "outputs": [],
   "source": [
    "%sql\n",
    "DESCRIBE EXTENDED northwind_dlh.dim_shipper;"
   ]
  },
  {
   "cell_type": "code",
   "execution_count": 0,
   "metadata": {
    "application/vnd.databricks.v1+cell": {
     "cellMetadata": {
      "byteLimit": 2048000,
      "implicitDf": true,
      "rowLimit": 10000
     },
     "inputWidgets": {},
     "nuid": "da35ad65-400d-45f1-928f-dfeccfccf359",
     "showTitle": false,
     "title": ""
    }
   },
   "outputs": [],
   "source": [
    "%sql\n",
    "SELECT * FROM northwind_dlh.dim_shipper LIMIT 5;"
   ]
  },
  {
   "cell_type": "markdown",
   "metadata": {
    "application/vnd.databricks.v1+cell": {
     "cellMetadata": {
      "byteLimit": 2048000,
      "rowLimit": 10000
     },
     "inputWidgets": {},
     "nuid": "10b2930e-732d-409a-9853-28738802fac4",
     "showTitle": false,
     "title": ""
    }
   },
   "source": [
    "##### Verify Dimension Tables"
   ]
  },
  {
   "cell_type": "code",
   "execution_count": 0,
   "metadata": {
    "application/vnd.databricks.v1+cell": {
     "cellMetadata": {
      "byteLimit": 2048000,
      "implicitDf": true,
      "rowLimit": 10000
     },
     "inputWidgets": {},
     "nuid": "0da830d5-ecdd-4b6f-bc43-7c7559e9d34e",
     "showTitle": false,
     "title": ""
    }
   },
   "outputs": [],
   "source": [
    "%sql\n",
    "USE northwind_dlh;\n",
    "SHOW TABLES"
   ]
  },
  {
   "cell_type": "markdown",
   "metadata": {
    "application/vnd.databricks.v1+cell": {
     "cellMetadata": {
      "byteLimit": 2048000,
      "rowLimit": 10000
     },
     "inputWidgets": {},
     "nuid": "7cd1e0df-ee40-4631-95f2-fecd438276d8",
     "showTitle": false,
     "title": ""
    }
   },
   "source": [
    "### Section III: Integrate Reference Data with Real-Time Data\n",
    "#### 6.0. Use AutoLoader to Process Streaming (Hot Path) Orders Fact Data \n",
    "##### 6.1. Bronze Table: Process 'Raw' JSON Data"
   ]
  },
  {
   "cell_type": "code",
   "execution_count": 0,
   "metadata": {
    "application/vnd.databricks.v1+cell": {
     "cellMetadata": {
      "byteLimit": 2048000,
      "rowLimit": 10000
     },
     "inputWidgets": {},
     "nuid": "34000bc1-7f1b-4d21-bfd2-10e2bf9ee979",
     "showTitle": false,
     "title": ""
    }
   },
   "outputs": [],
   "source": [
    "(spark.readStream\n",
    " .format(\"cloudFiles\")\n",
    " .option(\"cloudFiles.format\", \"json\")\n",
    " #.option(\"cloudFiles.schemaHints\", \"fact_order_key BIGINT\")\n",
    " #.option(\"cloudFiles.schemaHints\", \"order_key BIGINT\")\n",
    " #.option(\"cloudFiles.schemaHints\", \"employee_key BIGINT\")\n",
    " #.option(\"cloudFiles.schemaHints\", \"customer_key BIGINT\") \n",
    " #.option(\"cloudFiles.schemaHints\", \"product_key BIGINT\")\n",
    " #.option(\"cloudFiles.schemaHints\", \"shipper_key DECIMAL\")\n",
    " #.option(\"cloudFiles.schemaHints\", \"order_date_key DECIMAL\")\n",
    " #.option(\"cloudFiles.schemaHints\", \"paid_date_key DECIMAL\")\n",
    " #.option(\"cloudFiles.schemaHints\", \"shipped_date_key DECIMAL\") \n",
    " #.option(\"cloudFiles.schemaHints\", \"quantity DECIMAL\")\n",
    " #.option(\"cloudFiles.schemaHints\", \"unit_price DECIMAL\")\n",
    " #.option(\"cloudFiles.schemaHints\", \"discount DECIMAL\")\n",
    " #.option(\"cloudFiles.schemaHints\", \"shipping_fee DECIMAL\")\n",
    " #.option(\"cloudFiles.schemaHints\", \"taxes DECIMAL\")\n",
    " #.option(\"cloudFiles.schemaHints\", \"tax_rate DECIMAL\")\n",
    " #.option(\"cloudFiles.schemaHints\", \"payment_type STRING\")\n",
    " #.option(\"cloudFiles.schemaHints\", \"order_status STRING\")\n",
    " #.option(\"cloudFiles.schemaHints\", \"order_details_status STRING\")\n",
    " .option(\"cloudFiles.schemaLocation\", orders_output_bronze)\n",
    " .option(\"cloudFiles.inferColumnTypes\", \"true\")\n",
    " .option(\"multiLine\", \"true\")\n",
    " .load(orders_stream_dir)\n",
    " .createOrReplaceTempView(\"orders_raw_tempview\"))"
   ]
  },
  {
   "cell_type": "code",
   "execution_count": 0,
   "metadata": {
    "application/vnd.databricks.v1+cell": {
     "cellMetadata": {
      "byteLimit": 2048000,
      "implicitDf": true,
      "rowLimit": 10000
     },
     "inputWidgets": {},
     "nuid": "acf1fa4c-6860-4a4b-9046-bd79a738891b",
     "showTitle": false,
     "title": ""
    }
   },
   "outputs": [],
   "source": [
    "%sql\n",
    "/* Add Metadata for Traceability */\n",
    "CREATE OR REPLACE TEMPORARY VIEW orders_bronze_tempview AS (\n",
    "  SELECT *, current_timestamp() receipt_time, input_file_name() source_file\n",
    "  FROM orders_raw_tempview\n",
    ")"
   ]
  },
  {
   "cell_type": "code",
   "execution_count": 0,
   "metadata": {
    "application/vnd.databricks.v1+cell": {
     "cellMetadata": {
      "byteLimit": 2048000,
      "implicitDf": true,
      "rowLimit": 10000
     },
     "inputWidgets": {},
     "nuid": "93ecede6-693c-4949-8aba-b2344680af03",
     "showTitle": false,
     "title": ""
    }
   },
   "outputs": [],
   "source": [
    "%sql\n",
    "SELECT * FROM orders_bronze_tempview"
   ]
  },
  {
   "cell_type": "code",
   "execution_count": 0,
   "metadata": {
    "application/vnd.databricks.v1+cell": {
     "cellMetadata": {
      "byteLimit": 2048000,
      "rowLimit": 10000
     },
     "inputWidgets": {},
     "nuid": "e89a9e0c-69da-452a-92d5-724fb81529ed",
     "showTitle": false,
     "title": ""
    }
   },
   "outputs": [],
   "source": [
    "(spark.table(\"orders_bronze_tempview\")\n",
    "      .writeStream\n",
    "      .format(\"delta\")\n",
    "      .option(\"checkpointLocation\", f\"{orders_output_bronze}/_checkpoint\")\n",
    "      .outputMode(\"append\")\n",
    "      .table(\"fact_orders_bronze\"))"
   ]
  },
  {
   "cell_type": "markdown",
   "metadata": {
    "application/vnd.databricks.v1+cell": {
     "cellMetadata": {
      "byteLimit": 2048000,
      "rowLimit": 10000
     },
     "inputWidgets": {},
     "nuid": "030a8ad8-1937-4708-91e2-2975eb731862",
     "showTitle": false,
     "title": ""
    }
   },
   "source": [
    "##### 6.2. Silver Table: Include Reference Data"
   ]
  },
  {
   "cell_type": "code",
   "execution_count": 0,
   "metadata": {
    "application/vnd.databricks.v1+cell": {
     "cellMetadata": {
      "byteLimit": 2048000,
      "rowLimit": 10000
     },
     "inputWidgets": {},
     "nuid": "4998a27c-4486-4d7c-bb79-f29d7cdeae01",
     "showTitle": false,
     "title": ""
    }
   },
   "outputs": [],
   "source": [
    "(spark.readStream\n",
    "  .table(\"fact_orders_bronze\")\n",
    "  .createOrReplaceTempView(\"orders_silver_tempview\"))"
   ]
  },
  {
   "cell_type": "code",
   "execution_count": 0,
   "metadata": {
    "application/vnd.databricks.v1+cell": {
     "cellMetadata": {
      "byteLimit": 2048000,
      "implicitDf": true,
      "rowLimit": 10000
     },
     "inputWidgets": {},
     "nuid": "b160aaaf-2edc-46eb-8514-765d55695ad5",
     "showTitle": false,
     "title": ""
    }
   },
   "outputs": [],
   "source": [
    "%sql\n",
    "SELECT * FROM orders_silver_tempview"
   ]
  },
  {
   "cell_type": "code",
   "execution_count": 0,
   "metadata": {
    "application/vnd.databricks.v1+cell": {
     "cellMetadata": {
      "byteLimit": 2048000,
      "implicitDf": true,
      "rowLimit": 10000
     },
     "inputWidgets": {},
     "nuid": "27e95e9e-62c2-4c85-a66b-7d6e145a4193",
     "showTitle": false,
     "title": ""
    }
   },
   "outputs": [],
   "source": [
    "%sql\n",
    "DESCRIBE EXTENDED orders_silver_tempview"
   ]
  },
  {
   "cell_type": "code",
   "execution_count": 0,
   "metadata": {
    "application/vnd.databricks.v1+cell": {
     "cellMetadata": {
      "byteLimit": 2048000,
      "implicitDf": true,
      "rowLimit": 10000
     },
     "inputWidgets": {},
     "nuid": "710c49bc-c34a-4db5-9cea-ab801ffe9688",
     "showTitle": false,
     "title": ""
    }
   },
   "outputs": [],
   "source": [
    "%sql\n",
    "CREATE OR REPLACE TEMPORARY VIEW fact_orders_silver_tempview AS (\n",
    "  SELECT o.fact_order_key,\n",
    "      o.order_key,\n",
    "      o.employee_key,\n",
    "      e.last_name AS employee_last_name,\n",
    "      e.first_name AS employee_first_name,\n",
    "      e.job_title AS employee_job_title,\n",
    "      e.company AS employee_company,\n",
    "      o.customer_key,\n",
    "      c.last_name AS customer_last_name,\n",
    "      c.first_name AS customer_first_name,\n",
    "      o.product_key,\n",
    "      p.product_code,\n",
    "      p.product_name,\n",
    "      p.standard_cost AS product_standard_cost,\n",
    "      p.list_price AS product_list_price,\n",
    "      p.category AS product_category,\n",
    "      o.shipper_key,\n",
    "      s.company AS shipper_company,\n",
    "      s.state_province AS shipper_state_province,\n",
    "      s.country_region AS shipper_country_region,\n",
    "      o.order_date_key,\n",
    "      od.day_name_of_week AS order_day_name_of_week,\n",
    "      od.day_of_month AS order_day_of_month,\n",
    "      od.weekday_weekend AS order_weekday_weekend,\n",
    "      od.month_name AS order_month_name,\n",
    "      od.calendar_quarter AS order_quarter,\n",
    "      od.calendar_year AS order_year,\n",
    "      o.paid_date_key,\n",
    "      pd.day_name_of_week AS paid_day_name_of_week,\n",
    "      pd.day_of_month AS paid_day_of_month,\n",
    "      pd.weekday_weekend AS paid_weekday_weekend,\n",
    "      pd.month_name AS paid_month_name,\n",
    "      pd.calendar_quarter AS paid_calendar_quarter,\n",
    "      pd.calendar_year AS paid_calendar_year,\n",
    "      o.shipped_date_key,\n",
    "      sd.day_name_of_week AS shipped_day_name_of_week,\n",
    "      sd.day_of_month AS shipped_day_of_month,\n",
    "      sd.weekday_weekend AS shipped_weekday_weekend,\n",
    "      sd.month_name AS shipped_month_name,\n",
    "      sd.calendar_quarter AS shipped_calendar_quarter,\n",
    "      sd.calendar_year AS shipped_calendar_year,\n",
    "      o.quantity,\n",
    "      o.unit_price,\n",
    "      o.discount,\n",
    "      o.shipping_fee,\n",
    "      o.taxes,\n",
    "      o.tax_rate,\n",
    "      o.payment_type,\n",
    "      o.order_status,\n",
    "      o.order_details_status\n",
    "  FROM orders_silver_tempview AS o\n",
    "  INNER JOIN northwind_dlh.dim_employee AS e\n",
    "  ON e.employee_key = o.employee_key\n",
    "  INNER JOIN northwind_dlh.dim_customer AS c\n",
    "  ON c.customer_key = o.customer_key\n",
    "  INNER JOIN northwind_dlh.dim_product AS p\n",
    "  ON p.product_key = o.product_key\n",
    "  INNER JOIN northwind_dlh.dim_shipper AS s\n",
    "  ON s.shipper_key = o.shipper_key\n",
    "  LEFT OUTER JOIN northwind_dlh.dim_date AS od\n",
    "  ON od.date_key = o.order_date_key\n",
    "  LEFT OUTER JOIN northwind_dlh.dim_date AS pd\n",
    "  ON pd.date_key = o.paid_date_key\n",
    "  LEFT OUTER JOIN northwind_dlh.dim_date AS sd\n",
    "  ON sd.date_key = o.shipped_date_key\n",
    ")"
   ]
  },
  {
   "cell_type": "code",
   "execution_count": 0,
   "metadata": {
    "application/vnd.databricks.v1+cell": {
     "cellMetadata": {
      "byteLimit": 2048000,
      "rowLimit": 10000
     },
     "inputWidgets": {},
     "nuid": "240d8a94-0801-4e89-966d-a08f843efb6b",
     "showTitle": false,
     "title": ""
    }
   },
   "outputs": [],
   "source": [
    "(spark.table(\"fact_orders_silver_tempview\")\n",
    "      .writeStream\n",
    "      .format(\"delta\")\n",
    "      .option(\"checkpointLocation\", f\"{orders_output_silver}/_checkpoint\")\n",
    "      .outputMode(\"append\")\n",
    "      .table(\"fact_orders_silver\"))"
   ]
  },
  {
   "cell_type": "code",
   "execution_count": 0,
   "metadata": {
    "application/vnd.databricks.v1+cell": {
     "cellMetadata": {
      "byteLimit": 2048000,
      "implicitDf": true,
      "rowLimit": 10000
     },
     "inputWidgets": {},
     "nuid": "e0405389-1528-48ba-96cc-90a9c67f1c34",
     "showTitle": false,
     "title": ""
    }
   },
   "outputs": [],
   "source": [
    "%sql\n",
    "SELECT * FROM fact_orders_silver"
   ]
  },
  {
   "cell_type": "code",
   "execution_count": 0,
   "metadata": {
    "application/vnd.databricks.v1+cell": {
     "cellMetadata": {
      "byteLimit": 2048000,
      "implicitDf": true,
      "rowLimit": 10000
     },
     "inputWidgets": {},
     "nuid": "f89680de-3ae9-4a27-9c0c-a8e4eef7667a",
     "showTitle": false,
     "title": ""
    }
   },
   "outputs": [],
   "source": [
    "%sql\n",
    "DESCRIBE EXTENDED northwind_dlh.fact_orders_silver"
   ]
  },
  {
   "cell_type": "markdown",
   "metadata": {
    "application/vnd.databricks.v1+cell": {
     "cellMetadata": {
      "byteLimit": 2048000,
      "rowLimit": 10000
     },
     "inputWidgets": {},
     "nuid": "6804eb9a-7c90-4c3c-a26e-29c9b91f1b1c",
     "showTitle": false,
     "title": ""
    }
   },
   "source": [
    "##### 6.3. Gold Table: Perform Aggregations\n",
    "Create a new Gold table using the CTAS approach. The table should include the number of products sold per customer each Month, along with the Customers' ID, First & Last Name, and the Month in which the order was placed."
   ]
  },
  {
   "cell_type": "code",
   "execution_count": 0,
   "metadata": {
    "application/vnd.databricks.v1+cell": {
     "cellMetadata": {
      "byteLimit": 2048000,
      "implicitDf": true,
      "rowLimit": 10000
     },
     "inputWidgets": {},
     "nuid": "255621fc-ae98-4723-917c-898eb3c0bf96",
     "showTitle": false,
     "title": ""
    }
   },
   "outputs": [],
   "source": [
    "%sql\n",
    "CREATE OR REPLACE TABLE northwind_dlh.fact_monthly_orders_by_customer_gold AS (\n",
    "  SELECT customer_key AS CustomerID\n",
    "    , customer_last_name AS LastName\n",
    "    , customer_first_name AS FirstName\n",
    "    , order_month_name AS OrderMonth\n",
    "    , COUNT(product_key) AS ProductCount\n",
    "  FROM northwind_dlh.fact_orders_silver\n",
    "  GROUP BY CustomerID, LastName, FirstName, OrderMonth\n",
    "  ORDER BY ProductCount DESC);\n",
    "\n",
    "SELECT * FROM northwind_dlh.fact_monthly_orders_by_customer_gold;"
   ]
  },
  {
   "cell_type": "code",
   "execution_count": 0,
   "metadata": {
    "application/vnd.databricks.v1+cell": {
     "cellMetadata": {
      "byteLimit": 2048000,
      "implicitDf": true,
      "rowLimit": 10000
     },
     "inputWidgets": {},
     "nuid": "2ff0d151-e0d9-497d-b624-3c84dfbdb714",
     "showTitle": false,
     "title": ""
    }
   },
   "outputs": [],
   "source": [
    "%sql\n",
    "CREATE OR REPLACE TABLE northwind_dlh.fact_product_orders_by_customer_gold AS (\n",
    "  SELECT pc.CustomerID\n",
    "    , os.customer_last_name AS CustomerName\n",
    "    , os.product_key AS ProductNumber\n",
    "    , pc.ProductCount\n",
    "  FROM northwind_dlh.fact_orders_silver AS os\n",
    "  INNER JOIN (\n",
    "    SELECT customer_key AS CustomerID\n",
    "    , COUNT(product_key) AS ProductCount\n",
    "    FROM northwind_dlh.fact_orders_silver\n",
    "    GROUP BY customer_key\n",
    "  ) AS pc\n",
    "  ON pc.CustomerID = os.customer_key\n",
    "  ORDER BY ProductCount DESC);\n",
    "\n",
    "SELECT * FROM northwind_dlh.fact_product_orders_by_customer_gold;"
   ]
  },
  {
   "cell_type": "markdown",
   "metadata": {
    "application/vnd.databricks.v1+cell": {
     "cellMetadata": {
      "byteLimit": 2048000,
      "rowLimit": 10000
     },
     "inputWidgets": {},
     "nuid": "bfc14913-6bc4-4460-8c2b-f41a9b72e4c0",
     "showTitle": false,
     "title": ""
    }
   },
   "source": [
    "#### 7.0. Use AutoLoader to Process Streaming (Hot Path) Purchase Orders Fact Data \n",
    "##### 7.1. Bronze Table: Process 'Raw' JSON Data"
   ]
  },
  {
   "cell_type": "code",
   "execution_count": 0,
   "metadata": {
    "application/vnd.databricks.v1+cell": {
     "cellMetadata": {
      "byteLimit": 2048000,
      "rowLimit": 10000
     },
     "inputWidgets": {},
     "nuid": "7e164c5f-4125-4d39-8e34-a9777ecc74a7",
     "showTitle": false,
     "title": ""
    }
   },
   "outputs": [],
   "source": [
    "# Use spark.readStream and the AutoLoader to read in the JSON files in the \"purchase_orders_stream_dir\"\n",
    "# directory and then create a TempView named \"purchase_orders_raw_tempview\".\n",
    "# Be sure to set the \"cloudFiles.schemaLocation\" Option using the \"purchase_orders_output_bronze\" directory"
   ]
  },
  {
   "cell_type": "code",
   "execution_count": 0,
   "metadata": {
    "application/vnd.databricks.v1+cell": {
     "cellMetadata": {
      "byteLimit": 2048000,
      "implicitDf": true,
      "rowLimit": 10000
     },
     "inputWidgets": {},
     "nuid": "38d11512-c082-420c-ba5f-9506bd6e048b",
     "showTitle": false,
     "title": ""
    }
   },
   "outputs": [],
   "source": [
    "%sql\n",
    "/* Add Metadata for Traceability */"
   ]
  },
  {
   "cell_type": "code",
   "execution_count": 0,
   "metadata": {
    "application/vnd.databricks.v1+cell": {
     "cellMetadata": {
      "byteLimit": 2048000,
      "implicitDf": true,
      "rowLimit": 10000
     },
     "inputWidgets": {},
     "nuid": "369910e4-19f7-4568-a23c-851436e6dd04",
     "showTitle": false,
     "title": ""
    }
   },
   "outputs": [],
   "source": [
    "%sql\n",
    "SELECT * FROM purchase_orders_bronze_tempview"
   ]
  },
  {
   "cell_type": "code",
   "execution_count": 0,
   "metadata": {
    "application/vnd.databricks.v1+cell": {
     "cellMetadata": {
      "byteLimit": 2048000,
      "rowLimit": 10000
     },
     "inputWidgets": {},
     "nuid": "591b24a4-cd8f-4090-9dda-40e523e5285d",
     "showTitle": false,
     "title": ""
    }
   },
   "outputs": [],
   "source": [
    "(spark.table(\"purchase_orders_bronze_tempview\")\n",
    "      .writeStream\n",
    "      .format(\"delta\")\n",
    "      .option(\"checkpointLocation\", f\"{purchase_orders_output_bronze}/_checkpoint\")\n",
    "      .outputMode(\"append\")\n",
    "      .table(\"fact_purchase_orders_bronze\"))"
   ]
  },
  {
   "cell_type": "markdown",
   "metadata": {
    "application/vnd.databricks.v1+cell": {
     "cellMetadata": {
      "byteLimit": 2048000,
      "rowLimit": 10000
     },
     "inputWidgets": {},
     "nuid": "ef4d8b4e-4002-481b-b805-89d43b3299ce",
     "showTitle": false,
     "title": ""
    }
   },
   "source": [
    "##### 7.2. Silver Table: Include Reference Data"
   ]
  },
  {
   "cell_type": "code",
   "execution_count": 0,
   "metadata": {
    "application/vnd.databricks.v1+cell": {
     "cellMetadata": {
      "byteLimit": 2048000,
      "rowLimit": 10000
     },
     "inputWidgets": {},
     "nuid": "64997d8b-f699-41f7-9dd8-020706e1bc98",
     "showTitle": false,
     "title": ""
    }
   },
   "outputs": [],
   "source": [
    "(spark.readStream\n",
    "  .table(\"fact_purchase_orders_bronze\")\n",
    "  .createOrReplaceTempView(\"purchase_orders_silver_tempview\"))"
   ]
  },
  {
   "cell_type": "code",
   "execution_count": 0,
   "metadata": {
    "application/vnd.databricks.v1+cell": {
     "cellMetadata": {
      "byteLimit": 2048000,
      "implicitDf": true,
      "rowLimit": 10000
     },
     "inputWidgets": {},
     "nuid": "d5fb1d96-374e-49e2-9aaa-d2eb6b201e04",
     "showTitle": false,
     "title": ""
    }
   },
   "outputs": [],
   "source": [
    "%sql\n",
    "SELECT * FROM purchase_orders_silver_tempview"
   ]
  },
  {
   "cell_type": "code",
   "execution_count": 0,
   "metadata": {
    "application/vnd.databricks.v1+cell": {
     "cellMetadata": {
      "byteLimit": 2048000,
      "implicitDf": true,
      "rowLimit": 10000
     },
     "inputWidgets": {},
     "nuid": "e6cf19c8-d178-461d-b10c-16ca87a2a882",
     "showTitle": false,
     "title": ""
    }
   },
   "outputs": [],
   "source": [
    "%sql\n",
    "DESCRIBE EXTENDED purchase_orders_silver_tempview"
   ]
  },
  {
   "cell_type": "code",
   "execution_count": 0,
   "metadata": {
    "application/vnd.databricks.v1+cell": {
     "cellMetadata": {
      "byteLimit": 2048000,
      "implicitDf": true,
      "rowLimit": 10000
     },
     "inputWidgets": {},
     "nuid": "7d20e510-7ba2-420f-bac9-47bf2ac9a7fd",
     "showTitle": false,
     "title": ""
    }
   },
   "outputs": [],
   "source": [
    "%sql\n",
    "-- Create a new Temporary View named \"purchase_orders_silver_tempview\" by selecting data from\n",
    "-- \"purchase_orders_silver_tempview\" and joining it to the Supplier, Product, Employee and Date dimension tables.\n",
    "-- Remember that the Date dimension can serve as a \"Role Playing\" dimension by being Joined upon multiple times.\n"
   ]
  },
  {
   "cell_type": "code",
   "execution_count": 0,
   "metadata": {
    "application/vnd.databricks.v1+cell": {
     "cellMetadata": {
      "byteLimit": 2048000,
      "rowLimit": 10000
     },
     "inputWidgets": {},
     "nuid": "95519b99-c294-4b0b-9c24-f36383d8602a",
     "showTitle": false,
     "title": ""
    }
   },
   "outputs": [],
   "source": [
    "(spark.table(\"fact_purchase_orders_silver_tempview\")\n",
    "      .writeStream\n",
    "      .format(\"delta\")\n",
    "      .option(\"checkpointLocation\", f\"{purchase_orders_output_silver}/_checkpoint\")\n",
    "      .outputMode(\"append\")\n",
    "      .table(\"fact_purchase_orders_silver\"))"
   ]
  },
  {
   "cell_type": "code",
   "execution_count": 0,
   "metadata": {
    "application/vnd.databricks.v1+cell": {
     "cellMetadata": {
      "byteLimit": 2048000,
      "implicitDf": true,
      "rowLimit": 10000
     },
     "inputWidgets": {},
     "nuid": "f104d194-8005-4468-b57a-babc6cf11014",
     "showTitle": false,
     "title": ""
    }
   },
   "outputs": [],
   "source": [
    "%sql\n",
    "SELECT * FROM fact_purchase_orders_silver"
   ]
  },
  {
   "cell_type": "code",
   "execution_count": 0,
   "metadata": {
    "application/vnd.databricks.v1+cell": {
     "cellMetadata": {
      "byteLimit": 2048000,
      "implicitDf": true,
      "rowLimit": 10000
     },
     "inputWidgets": {},
     "nuid": "bd525449-f99f-4fb2-b764-62efcf42ed92",
     "showTitle": false,
     "title": ""
    }
   },
   "outputs": [],
   "source": [
    "%sql\n",
    "DESCRIBE EXTENDED fact_purchase_orders_silver"
   ]
  },
  {
   "cell_type": "markdown",
   "metadata": {
    "application/vnd.databricks.v1+cell": {
     "cellMetadata": {
      "byteLimit": 2048000,
      "rowLimit": 10000
     },
     "inputWidgets": {},
     "nuid": "d707a46f-7cf1-4a89-814b-2f473afd7cb3",
     "showTitle": false,
     "title": ""
    }
   },
   "source": [
    "##### 7.3. Gold Table: Perform Aggregations\n",
    "Create a new Gold table using the CTAS approach. The table should include the total amount (total list price) of the purchase orders placed per Supplier for each Product. Include the Suppliers' Company Name, and the Product Name."
   ]
  },
  {
   "cell_type": "code",
   "execution_count": 0,
   "metadata": {
    "application/vnd.databricks.v1+cell": {
     "cellMetadata": {
      "byteLimit": 2048000,
      "implicitDf": true,
      "rowLimit": 10000
     },
     "inputWidgets": {},
     "nuid": "4589465a-fdcc-4cd1-b08f-b99a22319f4f",
     "showTitle": false,
     "title": ""
    }
   },
   "outputs": [],
   "source": [
    "%sql\n",
    "-- Author a query that returns the Total List Price grouped by Supplier and Product and sorted by Total List Price descending."
   ]
  },
  {
   "cell_type": "markdown",
   "metadata": {
    "application/vnd.databricks.v1+cell": {
     "cellMetadata": {
      "byteLimit": 2048000,
      "rowLimit": 10000
     },
     "inputWidgets": {},
     "nuid": "3d871224-85b8-47f4-b723-cf0b88840464",
     "showTitle": false,
     "title": ""
    }
   },
   "source": [
    "#### 8.0. Use AutoLoader to Process Streaming (Hot Path) Inventory Transactions Fact Data \n",
    "##### 8.1. Bronze Table: Process 'Raw' JSON Data"
   ]
  },
  {
   "cell_type": "code",
   "execution_count": 0,
   "metadata": {
    "application/vnd.databricks.v1+cell": {
     "cellMetadata": {
      "byteLimit": 2048000,
      "rowLimit": 10000
     },
     "inputWidgets": {},
     "nuid": "045ebc74-f39c-4f26-af1f-e73c91cdf944",
     "showTitle": false,
     "title": ""
    }
   },
   "outputs": [],
   "source": [
    "# Use spark.readStream and the AutoLoader to read in the JSON files in the \"inventory_trans_stream_dir\"\n",
    "# directory and then create a TempView named \"inventory_transactions_raw_tempview\".\n",
    "# Be sure to set the \"cloudFiles.schemaLocation\" Option using the \"inventory_trans_output_bronze\" directory"
   ]
  },
  {
   "cell_type": "code",
   "execution_count": 0,
   "metadata": {
    "application/vnd.databricks.v1+cell": {
     "cellMetadata": {
      "byteLimit": 2048000,
      "implicitDf": true,
      "rowLimit": 10000
     },
     "inputWidgets": {},
     "nuid": "13f95bdd-ef5e-4a01-b59c-3d60ee9b2677",
     "showTitle": false,
     "title": ""
    }
   },
   "outputs": [],
   "source": [
    "%sql\n",
    "/* Add Metadata for Traceability */"
   ]
  },
  {
   "cell_type": "code",
   "execution_count": 0,
   "metadata": {
    "application/vnd.databricks.v1+cell": {
     "cellMetadata": {
      "byteLimit": 2048000,
      "implicitDf": true,
      "rowLimit": 10000
     },
     "inputWidgets": {},
     "nuid": "05db6c40-f3a6-4149-9431-c88ce472f65a",
     "showTitle": false,
     "title": ""
    }
   },
   "outputs": [],
   "source": [
    "%sql\n",
    "SELECT * FROM inventory_transactions_raw_tempview"
   ]
  },
  {
   "cell_type": "code",
   "execution_count": 0,
   "metadata": {
    "application/vnd.databricks.v1+cell": {
     "cellMetadata": {
      "byteLimit": 2048000,
      "rowLimit": 10000
     },
     "inputWidgets": {},
     "nuid": "ecdd97a8-3a53-4996-af65-ab1765da1589",
     "showTitle": false,
     "title": ""
    }
   },
   "outputs": [],
   "source": [
    "(spark.table(\"inventory_transactions_bronze_tempview\")\n",
    "     .writeStream\n",
    "     .format(\"delta\")\n",
    "     .option(\"checkpointLocation\", f\"{inventory_trans_output_bronze}/_checkpoint\")\n",
    "     .outputMode(\"append\")\n",
    "     .table(\"fact_inventory_transactions_bronze\"))"
   ]
  },
  {
   "cell_type": "markdown",
   "metadata": {
    "application/vnd.databricks.v1+cell": {
     "cellMetadata": {
      "byteLimit": 2048000,
      "rowLimit": 10000
     },
     "inputWidgets": {},
     "nuid": "3fc67185-6093-4216-8a3f-85a1b168cbc8",
     "showTitle": false,
     "title": ""
    }
   },
   "source": [
    "##### 8.2. Silver Table: Include Reference Data"
   ]
  },
  {
   "cell_type": "code",
   "execution_count": 0,
   "metadata": {
    "application/vnd.databricks.v1+cell": {
     "cellMetadata": {
      "byteLimit": 2048000,
      "rowLimit": 10000
     },
     "inputWidgets": {},
     "nuid": "e6e45489-6a37-4250-85bf-c8739f32fc0a",
     "showTitle": false,
     "title": ""
    }
   },
   "outputs": [],
   "source": [
    "(spark.readStream\n",
    "  .table(\"fact_inventory_transactions_bronze\")\n",
    "  .createOrReplaceTempView(\"inventory_transactions_silver_tempview\"))"
   ]
  },
  {
   "cell_type": "code",
   "execution_count": 0,
   "metadata": {
    "application/vnd.databricks.v1+cell": {
     "cellMetadata": {
      "byteLimit": 2048000,
      "implicitDf": true,
      "rowLimit": 10000
     },
     "inputWidgets": {},
     "nuid": "b3c72d37-3d06-4ce5-bf51-8da71c33781b",
     "showTitle": false,
     "title": ""
    }
   },
   "outputs": [],
   "source": [
    "%sql\n",
    "SELECT * FROM inventory_transactions_silver_tempview"
   ]
  },
  {
   "cell_type": "code",
   "execution_count": 0,
   "metadata": {
    "application/vnd.databricks.v1+cell": {
     "cellMetadata": {
      "byteLimit": 2048000,
      "implicitDf": true,
      "rowLimit": 10000
     },
     "inputWidgets": {},
     "nuid": "3ded4ac4-c6de-4c9a-8dcd-b0b7568c2db5",
     "showTitle": false,
     "title": ""
    }
   },
   "outputs": [],
   "source": [
    "%sql\n",
    "DESCRIBE EXTENDED inventory_transactions_silver_tempview"
   ]
  },
  {
   "cell_type": "code",
   "execution_count": 0,
   "metadata": {
    "application/vnd.databricks.v1+cell": {
     "cellMetadata": {
      "byteLimit": 2048000,
      "implicitDf": true,
      "rowLimit": 10000
     },
     "inputWidgets": {},
     "nuid": "616be98c-9e78-4f25-ae89-957693d79662",
     "showTitle": false,
     "title": ""
    }
   },
   "outputs": [],
   "source": [
    "%sql\n",
    "-- Create a new Temporary View named \"fact_inventory_transactions_silver_tempview\" by selecting data from\n",
    "-- \"inventory_transactions_silver_tempview\" and joining it to the Product and Data dimension tables.\n",
    "-- Remember that the Date dimension can serve as a \"Role Playing\" dimension by being Joined upon multiple times."
   ]
  },
  {
   "cell_type": "code",
   "execution_count": 0,
   "metadata": {
    "application/vnd.databricks.v1+cell": {
     "cellMetadata": {
      "byteLimit": 2048000,
      "rowLimit": 10000
     },
     "inputWidgets": {},
     "nuid": "b555412e-e498-4585-9e7b-e52c194e14a0",
     "showTitle": false,
     "title": ""
    }
   },
   "outputs": [],
   "source": [
    "(spark.table(\"fact_inventory_transactions_silver_tempview\")\n",
    "      .writeStream\n",
    "      .format(\"delta\")\n",
    "      .option(\"checkpointLocation\", f\"{inventory_trans_output_silver}/_checkpoint\")\n",
    "      .outputMode(\"append\")\n",
    "      .table(\"fact_inventory_transactions_silver\"))"
   ]
  },
  {
   "cell_type": "code",
   "execution_count": 0,
   "metadata": {
    "application/vnd.databricks.v1+cell": {
     "cellMetadata": {
      "byteLimit": 2048000,
      "implicitDf": true,
      "rowLimit": 10000
     },
     "inputWidgets": {},
     "nuid": "e7db4b79-69f5-43f3-bdce-c4fb4c8b2176",
     "showTitle": false,
     "title": ""
    }
   },
   "outputs": [],
   "source": [
    "%sql\n",
    "SELECT * FROM fact_inventory_transactions_silver"
   ]
  },
  {
   "cell_type": "code",
   "execution_count": 0,
   "metadata": {
    "application/vnd.databricks.v1+cell": {
     "cellMetadata": {
      "byteLimit": 2048000,
      "implicitDf": true,
      "rowLimit": 10000
     },
     "inputWidgets": {},
     "nuid": "a094cc61-d1d5-4537-a389-fa8e126a0c60",
     "showTitle": false,
     "title": ""
    }
   },
   "outputs": [],
   "source": [
    "%sql\n",
    "DESCRIBE EXTENDED fact_inventory_transactions_silver"
   ]
  },
  {
   "cell_type": "markdown",
   "metadata": {
    "application/vnd.databricks.v1+cell": {
     "cellMetadata": {
      "byteLimit": 2048000,
      "rowLimit": 10000
     },
     "inputWidgets": {},
     "nuid": "cf279dad-12f0-4a55-a821-ecc61d653d6b",
     "showTitle": false,
     "title": ""
    }
   },
   "source": [
    "##### 8.3. Gold Table: Perform Aggregations"
   ]
  },
  {
   "cell_type": "code",
   "execution_count": 0,
   "metadata": {
    "application/vnd.databricks.v1+cell": {
     "cellMetadata": {
      "byteLimit": 2048000,
      "implicitDf": true,
      "rowLimit": 10000
     },
     "inputWidgets": {},
     "nuid": "b4d66c1d-4712-4cc1-bf4d-0d297cd6a1fb",
     "showTitle": false,
     "title": ""
    }
   },
   "outputs": [],
   "source": [
    "%sql\n",
    "-- Author a query that returns the Total Quantity grouped by the Quarter Created, Inventory Transaction Type, and Product\n",
    "-- Sort by the Total Quantity Descending"
   ]
  },
  {
   "cell_type": "markdown",
   "metadata": {
    "application/vnd.databricks.v1+cell": {
     "cellMetadata": {
      "byteLimit": 2048000,
      "rowLimit": 10000
     },
     "inputWidgets": {},
     "nuid": "143f665e-eda3-4fbf-8f72-9aab08ae302b",
     "showTitle": false,
     "title": ""
    }
   },
   "source": [
    "#### 9.0. Clean up the File System"
   ]
  },
  {
   "cell_type": "code",
   "execution_count": 0,
   "metadata": {
    "application/vnd.databricks.v1+cell": {
     "cellMetadata": {
      "byteLimit": 2048000,
      "rowLimit": 10000
     },
     "inputWidgets": {},
     "nuid": "5d6447df-9b1b-4ca6-aab4-9651998583d9",
     "showTitle": false,
     "title": ""
    }
   },
   "outputs": [],
   "source": [
    "%fs rm -r /FileStore/lab_data/"
   ]
  }
 ],
 "metadata": {
  "application/vnd.databricks.v1+notebook": {
   "dashboards": [],
   "language": "python",
   "notebookMetadata": {
    "mostRecentlyExecutedCommandWithImplicitDF": {
     "commandId": 4004530187385085,
     "dataframes": [
      "_sqldf"
     ]
    },
    "pythonIndentUnit": 4
   },
   "notebookName": "6.0-Lab-DataLakehouse-Structured-Streaming",
   "widgets": {}
  }
 },
 "nbformat": 4,
 "nbformat_minor": 0
}
