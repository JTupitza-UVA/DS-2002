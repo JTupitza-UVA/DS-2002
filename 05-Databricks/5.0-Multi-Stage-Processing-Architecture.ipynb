{
 "cells": [
  {
   "cell_type": "markdown",
   "metadata": {
    "application/vnd.databricks.v1+cell": {
     "cellMetadata": {},
     "inputWidgets": {},
     "nuid": "16fca153-52d8-41e5-866f-e565cea76275",
     "showTitle": false,
     "title": ""
    }
   },
   "source": [
    "### Multi-Stage Incremental Processing Architecture in the Lakehouse\n",
    "Having a better understanding of how to perform incremental data processing by combining Structured Streaming APIs and Spark SQL, we can now explore the tight integration between Structured Streaming and Delta Lake.\n",
    "\n",
    "#### Objectives\n",
    "By the end of this lesson, you should be able to:\n",
    "* Describe Bronze, Silver, and Gold tables\n",
    "* Create a Delta Lake multi-hop pipeline"
   ]
  },
  {
   "cell_type": "markdown",
   "metadata": {
    "application/vnd.databricks.v1+cell": {
     "cellMetadata": {},
     "inputWidgets": {},
     "nuid": "9dc04ec0-253b-4dcc-8d89-cf8ab58ffb87",
     "showTitle": false,
     "title": ""
    }
   },
   "source": [
    "#### Incremental Updates in the Lakehouse\n",
    "Delta Lake allows users to easily combine streaming and batch workloads in a unified multi-stage pipeline, wherein each stage of the pipeline represents a state of our data valuable to driving core use cases within the business. With all data and metadata resident in object storage in the cloud, multiple users and applications can access data in near-real time, allowing analysts to access the freshest data as it's being processed.\n",
    "\n",
    "![](https://files.training.databricks.com/images/sslh/multi-hop-simple.png)\n",
    "\n",
    "- **Bronze** tables contain raw data ingested from various sources (JSON files, RDBMS data,  IoT data, to name a few examples).\n",
    "- **Silver** tables provide a more refined view of our data. We can join fields from various bronze tables to enrich streaming records, or update account statuses based on recent activity.\n",
    "- **Gold** tables provide business level aggregates often used for reporting and dashboarding. This would include aggregations such as daily active website users, weekly sales per store, or gross revenue per quarter by department. \n",
    "\n",
    "The end outputs are actionable insights, dashboards and reports of business metrics.  By considering our business logic at all steps of the ETL pipeline, we can ensure that storage and compute costs are optimized by reducing unnecessary duplication of data and limiting ad hoc querying against full historic data.  Each stage can be configured as a batch or streaming job, and ACID transactions ensure that we succeed or fail completely."
   ]
  },
  {
   "cell_type": "markdown",
   "metadata": {
    "application/vnd.databricks.v1+cell": {
     "cellMetadata": {},
     "inputWidgets": {},
     "nuid": "5803e045-033c-4b63-8d2a-c512dcdfbb29",
     "showTitle": false,
     "title": ""
    }
   },
   "source": [
    "#### Datasets Used:\n",
    "This demo uses simplified artificially generated medical data. The schema of our two datasets is represented below. Note that we will be manipulating these schema during various steps.\n",
    "\n",
    "##### Recordings\n",
    "The main dataset uses heart rate recordings from medical devices delivered in the JSON format. \n",
    "\n",
    "| Field | Type |\n",
    "| --- | --- |\n",
    "| device_id | int |\n",
    "| mrn | long |\n",
    "| time | double |\n",
    "| heartrate | double |\n",
    "\n",
    "##### PII\n",
    "These data will later be joined with a static table of patient information stored in an external system to identify patients by name.\n",
    "\n",
    "| Field | Type |\n",
    "| --- | --- |\n",
    "| mrn | long |\n",
    "| name | string |"
   ]
  },
  {
   "cell_type": "markdown",
   "metadata": {
    "application/vnd.databricks.v1+cell": {
     "cellMetadata": {},
     "inputWidgets": {},
     "nuid": "ba8727d3-8c48-47ff-bdda-1b903a87b146",
     "showTitle": false,
     "title": ""
    }
   },
   "source": [
    "#### 1.0. Import Shared Utilities and Data Files\n",
    "\n",
    "Run the following cell to configure the lab environment."
   ]
  },
  {
   "cell_type": "code",
   "execution_count": 0,
   "metadata": {
    "application/vnd.databricks.v1+cell": {
     "cellMetadata": {
      "byteLimit": 2048000,
      "rowLimit": 10000
     },
     "inputWidgets": {},
     "nuid": "15b46dd1-1123-4b08-8f8b-9a94f3d21e7f",
     "showTitle": false,
     "title": ""
    }
   },
   "outputs": [],
   "source": [
    "%run ./Includes/5.0-setup"
   ]
  },
  {
   "cell_type": "markdown",
   "metadata": {
    "application/vnd.databricks.v1+cell": {
     "cellMetadata": {},
     "inputWidgets": {},
     "nuid": "0468a607-3da7-4767-91ba-b2120e8dd4c6",
     "showTitle": false,
     "title": ""
    }
   },
   "source": [
    "#### 1.1. Data Simulator\n",
    "Databricks Auto Loader can automatically process files as they land in your cloud object stores. To simulate this process, you will run the following operation several times."
   ]
  },
  {
   "cell_type": "code",
   "execution_count": 0,
   "metadata": {
    "application/vnd.databricks.v1+cell": {
     "cellMetadata": {
      "byteLimit": 2048000,
      "rowLimit": 10000
     },
     "inputWidgets": {},
     "nuid": "067e1a60-fcd5-4525-98dc-ebd2417590aa",
     "showTitle": false,
     "title": ""
    }
   },
   "outputs": [],
   "source": [
    "DA.data_factory.load()"
   ]
  },
  {
   "cell_type": "markdown",
   "metadata": {
    "application/vnd.databricks.v1+cell": {
     "cellMetadata": {},
     "inputWidgets": {},
     "nuid": "69bc50d1-3c18-4a27-a438-11472c225a2d",
     "showTitle": false,
     "title": ""
    }
   },
   "source": [
    "#### 2.0. Bronze Table: Ingesting Raw JSON Recordings\n",
    "Below, we configure a read on a raw JSON source using Auto Loader with schema inference. Note that while you need to use the Spark DataFrame API to set up an incremental read, once configured you can immediately register a temp view to leverage Spark SQL for streaming transformations on your data.\n",
    "\n",
    "**NOTE**: For a JSON data source, Auto Loader will default to inferring each column as a string. Here, we demonstrate specifying the data type for the **`time`** column using the **`cloudFiles.schemaHints`** option. Note that specifying improper types for a field will result in null values."
   ]
  },
  {
   "cell_type": "code",
   "execution_count": 0,
   "metadata": {
    "application/vnd.databricks.v1+cell": {
     "cellMetadata": {
      "byteLimit": 2048000,
      "rowLimit": 10000
     },
     "inputWidgets": {},
     "nuid": "92babd2a-8686-4043-8216-3e220c05405c",
     "showTitle": false,
     "title": ""
    }
   },
   "outputs": [],
   "source": [
    "(spark.readStream\n",
    "    .format(\"cloudFiles\")\n",
    "    .option(\"cloudFiles.format\", \"json\")\n",
    "    .option(\"cloudFiles.schemaHints\", \"time DOUBLE\")\n",
    "    .option(\"cloudFiles.schemaLocation\", f\"{DA.paths.checkpoints}/bronze\")\n",
    "    .option(\"cloudFiles.inferColumnTypes\", \"true\")\n",
    "    .option(\"multiLine\", \"true\")\n",
    "    .load(DA.paths.data_landing_location)\n",
    "    .createOrReplaceTempView(\"recordings_raw_temp\"))"
   ]
  },
  {
   "cell_type": "markdown",
   "metadata": {
    "application/vnd.databricks.v1+cell": {
     "cellMetadata": {},
     "inputWidgets": {},
     "nuid": "338ddfa6-9091-4cee-ac8e-5e57a81d25d1",
     "showTitle": false,
     "title": ""
    }
   },
   "source": [
    "Here, we'll enrich our raw data with additional metadata describing the source file and the time it was ingested. This additional metadata can be ignored during downstream processing while providing useful information for troubleshooting errors if corrupt data is encountered."
   ]
  },
  {
   "cell_type": "code",
   "execution_count": 0,
   "metadata": {
    "application/vnd.databricks.v1+cell": {
     "cellMetadata": {
      "byteLimit": 2048000,
      "implicitDf": true,
      "rowLimit": 10000
     },
     "inputWidgets": {},
     "nuid": "804b2f81-2a02-425c-9dd6-4d4d8e63159d",
     "showTitle": false,
     "title": ""
    }
   },
   "outputs": [],
   "source": [
    "%sql\n",
    "CREATE OR REPLACE TEMPORARY VIEW recordings_bronze_temp AS (\n",
    "  SELECT *, current_timestamp() receipt_time, input_file_name() source_file\n",
    "  FROM recordings_raw_temp\n",
    ")"
   ]
  },
  {
   "cell_type": "markdown",
   "metadata": {
    "application/vnd.databricks.v1+cell": {
     "cellMetadata": {},
     "inputWidgets": {},
     "nuid": "4c0e5249-9243-44e6-a334-84370e0d904f",
     "showTitle": false,
     "title": ""
    }
   },
   "source": [
    "The code below passes our enriched raw data back to PySpark API to process an incremental write to a Delta Lake table."
   ]
  },
  {
   "cell_type": "code",
   "execution_count": 0,
   "metadata": {
    "application/vnd.databricks.v1+cell": {
     "cellMetadata": {
      "byteLimit": 2048000,
      "rowLimit": 10000
     },
     "inputWidgets": {},
     "nuid": "a5cb0b4b-eb5f-45c1-b068-8ff3d24a7352",
     "showTitle": false,
     "title": ""
    }
   },
   "outputs": [],
   "source": [
    "(spark.table(\"recordings_bronze_temp\")\n",
    "      .writeStream\n",
    "      .format(\"delta\")\n",
    "      .option(\"checkpointLocation\", f\"{DA.paths.checkpoints}/bronze\")\n",
    "      .outputMode(\"append\")\n",
    "      .table(\"bronze\"))"
   ]
  },
  {
   "cell_type": "markdown",
   "metadata": {
    "application/vnd.databricks.v1+cell": {
     "cellMetadata": {},
     "inputWidgets": {},
     "nuid": "59f5d9c4-f715-429d-bcbf-26ef56e1c5a7",
     "showTitle": false,
     "title": ""
    }
   },
   "source": [
    "Trigger another file arrival with the following cell and you'll see the changes immediately detected by the streaming query you've written."
   ]
  },
  {
   "cell_type": "code",
   "execution_count": 0,
   "metadata": {
    "application/vnd.databricks.v1+cell": {
     "cellMetadata": {
      "byteLimit": 2048000,
      "rowLimit": 10000
     },
     "inputWidgets": {},
     "nuid": "4a27e046-e7b4-4cdf-a2be-06f70ffdf2dc",
     "showTitle": false,
     "title": ""
    }
   },
   "outputs": [],
   "source": [
    "DA.data_factory.load()"
   ]
  },
  {
   "cell_type": "markdown",
   "metadata": {
    "application/vnd.databricks.v1+cell": {
     "cellMetadata": {},
     "inputWidgets": {},
     "nuid": "4e465226-881f-4c72-8713-70380832ff99",
     "showTitle": false,
     "title": ""
    }
   },
   "source": [
    "##### 2.1. Load Static Lookup Table\n",
    "The ACID guarantees that Delta Lake brings to your data are managed at the table level, ensuring that only fully successfully commits are reflected in your tables. If you choose to merge these data with other data sources, be aware of how those sources version data and what sort of consistency guarantees they have.\n",
    "\n",
    "In this simplified demo, we are loading a static CSV file to add patient data to our recordings. In production, we could use Databricks' <a href=\"https://docs.databricks.com/spark/latest/structured-streaming/auto-loader.html\" target=\"_blank\">Auto Loader</a> feature to keep an up-to-date view of these data in our Delta Lake."
   ]
  },
  {
   "cell_type": "code",
   "execution_count": 0,
   "metadata": {
    "application/vnd.databricks.v1+cell": {
     "cellMetadata": {
      "byteLimit": 2048000,
      "rowLimit": 10000
     },
     "inputWidgets": {},
     "nuid": "ec9b2e62-4bb0-4aa7-b1db-56cc99a98b10",
     "showTitle": false,
     "title": ""
    }
   },
   "outputs": [],
   "source": [
    "(spark.read\n",
    "      .format(\"csv\")\n",
    "      .schema(\"mrn STRING, name STRING\")\n",
    "      .option(\"header\", True)\n",
    "      .load(f\"{DA.paths.data_source}/patient/patient_info.csv\")\n",
    "      .createOrReplaceTempView(\"pii\"))"
   ]
  },
  {
   "cell_type": "code",
   "execution_count": 0,
   "metadata": {
    "application/vnd.databricks.v1+cell": {
     "cellMetadata": {
      "byteLimit": 2048000,
      "implicitDf": true,
      "rowLimit": 10000
     },
     "inputWidgets": {},
     "nuid": "a50e9d8a-a94e-47d7-acfe-d0108acbaa27",
     "showTitle": false,
     "title": ""
    }
   },
   "outputs": [],
   "source": [
    "%sql\n",
    "SELECT * FROM pii"
   ]
  },
  {
   "cell_type": "markdown",
   "metadata": {
    "application/vnd.databricks.v1+cell": {
     "cellMetadata": {},
     "inputWidgets": {},
     "nuid": "3cc594ea-e305-487d-a750-a67b0476c7ca",
     "showTitle": false,
     "title": ""
    }
   },
   "source": [
    "#### 3.0. Silver Table: Enriched Recording Data\n",
    "As a second hop in our silver level, we will do the follow enrichments and checks:\n",
    "- Our recordings data will be joined with the PII to add patient names\n",
    "- The time for our recordings will be parsed to the format **`'yyyy-MM-dd HH:mm:ss'`** to be human-readable\n",
    "- We will exclude heart rates that are <= 0, as we know that these either represent the absence of the patient or an error in transmission"
   ]
  },
  {
   "cell_type": "code",
   "execution_count": 0,
   "metadata": {
    "application/vnd.databricks.v1+cell": {
     "cellMetadata": {
      "byteLimit": 2048000,
      "rowLimit": 10000
     },
     "inputWidgets": {},
     "nuid": "68b4a025-f552-40ee-be05-d4300ffa8654",
     "showTitle": false,
     "title": ""
    }
   },
   "outputs": [],
   "source": [
    "(spark.readStream\n",
    "  .table(\"bronze\")\n",
    "  .createOrReplaceTempView(\"bronze_tmp\"))"
   ]
  },
  {
   "cell_type": "code",
   "execution_count": 0,
   "metadata": {
    "application/vnd.databricks.v1+cell": {
     "cellMetadata": {
      "byteLimit": 2048000,
      "implicitDf": true,
      "rowLimit": 10000
     },
     "inputWidgets": {},
     "nuid": "4268413f-f87a-4f0a-9e85-ed5fb3bd6747",
     "showTitle": false,
     "title": ""
    }
   },
   "outputs": [],
   "source": [
    "%sql\n",
    "CREATE OR REPLACE TEMPORARY VIEW recordings_w_pii AS (\n",
    "  SELECT device_id, a.mrn, b.name, cast(from_unixtime(time, 'yyyy-MM-dd HH:mm:ss') AS timestamp) time, heartrate\n",
    "  FROM bronze_tmp a\n",
    "  INNER JOIN pii b\n",
    "  ON a.mrn = b.mrn\n",
    "  WHERE heartrate > 0)"
   ]
  },
  {
   "cell_type": "code",
   "execution_count": 0,
   "metadata": {
    "application/vnd.databricks.v1+cell": {
     "cellMetadata": {
      "byteLimit": 2048000,
      "rowLimit": 10000
     },
     "inputWidgets": {},
     "nuid": "c141b63f-d236-45c1-9252-6c2a29173a57",
     "showTitle": false,
     "title": ""
    }
   },
   "outputs": [],
   "source": [
    "(spark.table(\"recordings_w_pii\")\n",
    "      .writeStream\n",
    "      .format(\"delta\")\n",
    "      .option(\"checkpointLocation\", f\"{DA.paths.checkpoints}/recordings_enriched\")\n",
    "      .outputMode(\"append\")\n",
    "      .table(\"recordings_enriched\"))"
   ]
  },
  {
   "cell_type": "markdown",
   "metadata": {
    "application/vnd.databricks.v1+cell": {
     "cellMetadata": {},
     "inputWidgets": {},
     "nuid": "710421bb-4bd1-4051-9258-0d29e3007304",
     "showTitle": false,
     "title": ""
    }
   },
   "source": [
    "Trigger another new file and wait for it propagate through both previous queries."
   ]
  },
  {
   "cell_type": "code",
   "execution_count": 0,
   "metadata": {
    "application/vnd.databricks.v1+cell": {
     "cellMetadata": {
      "byteLimit": 2048000,
      "implicitDf": true,
      "rowLimit": 10000
     },
     "inputWidgets": {},
     "nuid": "12b0f7fb-6d5b-4acf-a263-68c659e94be3",
     "showTitle": false,
     "title": ""
    }
   },
   "outputs": [],
   "source": [
    "%sql\n",
    "SELECT COUNT(*) FROM recordings_enriched"
   ]
  },
  {
   "cell_type": "code",
   "execution_count": 0,
   "metadata": {
    "application/vnd.databricks.v1+cell": {
     "cellMetadata": {
      "byteLimit": 2048000,
      "rowLimit": 10000
     },
     "inputWidgets": {},
     "nuid": "44f63d76-44b6-459a-b10d-df68300625af",
     "showTitle": false,
     "title": ""
    }
   },
   "outputs": [],
   "source": [
    "DA.data_factory.load()"
   ]
  },
  {
   "cell_type": "markdown",
   "metadata": {
    "application/vnd.databricks.v1+cell": {
     "cellMetadata": {},
     "inputWidgets": {},
     "nuid": "3ba5f5c5-f68d-488d-9f40-dec7f9454c47",
     "showTitle": false,
     "title": ""
    }
   },
   "source": [
    "#### 4.0. Gold Table: Daily Averages\n",
    "\n",
    "Here we read a stream of data from **`recordings_enriched`** and write another stream to create an aggregate gold table of daily averages for each patient."
   ]
  },
  {
   "cell_type": "code",
   "execution_count": 0,
   "metadata": {
    "application/vnd.databricks.v1+cell": {
     "cellMetadata": {
      "byteLimit": 2048000,
      "rowLimit": 10000
     },
     "inputWidgets": {},
     "nuid": "5a82f1b0-ac85-4a9d-8339-fd6f1521791d",
     "showTitle": false,
     "title": ""
    }
   },
   "outputs": [],
   "source": [
    "(spark.readStream\n",
    "  .table(\"recordings_enriched\")\n",
    "  .createOrReplaceTempView(\"recordings_enriched_temp\"))"
   ]
  },
  {
   "cell_type": "code",
   "execution_count": 0,
   "metadata": {
    "application/vnd.databricks.v1+cell": {
     "cellMetadata": {
      "byteLimit": 2048000,
      "implicitDf": true,
      "rowLimit": 10000
     },
     "inputWidgets": {},
     "nuid": "c752596a-423c-4c8b-a26c-10ccee509516",
     "showTitle": false,
     "title": ""
    }
   },
   "outputs": [],
   "source": [
    "%sql\n",
    "CREATE OR REPLACE TEMP VIEW patient_avg AS (\n",
    "  SELECT mrn, name, mean(heartrate) avg_heartrate, date_trunc(\"DD\", time) date\n",
    "  FROM recordings_enriched_temp\n",
    "  GROUP BY mrn, name, date_trunc(\"DD\", time))"
   ]
  },
  {
   "cell_type": "markdown",
   "metadata": {
    "application/vnd.databricks.v1+cell": {
     "cellMetadata": {},
     "inputWidgets": {},
     "nuid": "44b3e95d-8989-4fa2-b78e-f3f15b0bd9a0",
     "showTitle": false,
     "title": ""
    }
   },
   "source": [
    "Note that we're using **`.trigger(once=True)`** below. This provides us the ability to continue to use the strengths of structured streaming while trigger this job as a single batch. To recap, these strengths include:\n",
    "- exactly once end-to-end fault tolerant processing\n",
    "- automatic detection of changes in upstream data sources\n",
    "\n",
    "If we know the approximate rate at which our data grows, we can appropriately size the cluster we schedule for this job to ensure fast, cost-effective processing. The customer will be able to evaluate how much updating this final aggregate view of their data costs and make informed decisions about how frequently this operation needs to be run.\n",
    "\n",
    "Downstream processes subscribing to this table do not need to re-run any expensive aggregations. Rather, files just need to be de-serialized and then queries based on included fields can quickly be pushed down against this already-aggregated source."
   ]
  },
  {
   "cell_type": "code",
   "execution_count": 0,
   "metadata": {
    "application/vnd.databricks.v1+cell": {
     "cellMetadata": {
      "byteLimit": 2048000,
      "rowLimit": 10000
     },
     "inputWidgets": {},
     "nuid": "c75058a3-eb83-4a48-8b8d-6f8c82454d0b",
     "showTitle": false,
     "title": ""
    }
   },
   "outputs": [],
   "source": [
    "(spark.table(\"patient_avg\")\n",
    "      .writeStream\n",
    "      .format(\"delta\")\n",
    "      .outputMode(\"complete\")\n",
    "      .option(\"checkpointLocation\", f\"{DA.paths.checkpoints}/daily_avg\")\n",
    "      .trigger(once=True)\n",
    "      .table(\"daily_patient_avg\"))"
   ]
  },
  {
   "cell_type": "markdown",
   "metadata": {
    "application/vnd.databricks.v1+cell": {
     "cellMetadata": {},
     "inputWidgets": {},
     "nuid": "1766b7df-54ae-4c95-8cc9-6dfa433c3ce2",
     "showTitle": false,
     "title": ""
    }
   },
   "source": [
    "##### 4.1. Important Considerations for Complete Output with Delta\n",
    "When using **`complete`** output mode, we rewrite the entire state of our table each time our logic runs. While this is ideal for calculating aggregates, we **cannot** read a stream from this directory, as Structured Streaming assumes data is only being appended in the upstream logic.  **NOTE**: Certain options can be set to change this behavior, but have other limitations attached. For more details, refer to <a href=\"https://docs.databricks.com/delta/delta-streaming.html#ignoring-updates-and-deletes\" target=\"_blank\">Delta Streaming: Ignoring Updates and Deletes</a>.  The gold Delta table we have just registered will perform a static read of the current state of the data each time we run the following query."
   ]
  },
  {
   "cell_type": "code",
   "execution_count": 0,
   "metadata": {
    "application/vnd.databricks.v1+cell": {
     "cellMetadata": {
      "byteLimit": 2048000,
      "implicitDf": true,
      "rowLimit": 10000
     },
     "inputWidgets": {},
     "nuid": "7d163e05-ad55-49d7-bde4-3d8439901495",
     "showTitle": false,
     "title": ""
    }
   },
   "outputs": [],
   "source": [
    "%sql\n",
    "SELECT * FROM daily_patient_avg"
   ]
  },
  {
   "cell_type": "markdown",
   "metadata": {
    "application/vnd.databricks.v1+cell": {
     "cellMetadata": {},
     "inputWidgets": {},
     "nuid": "0c1eec54-fe27-4edc-aa23-c068ea7d52e7",
     "showTitle": false,
     "title": ""
    }
   },
   "source": [
    "Note the above table includes all days for all users. If the predicates for our ad hoc queries match the data encoded here, we can push down our predicates to files at the source and very quickly generate more limited aggregate views."
   ]
  },
  {
   "cell_type": "code",
   "execution_count": 0,
   "metadata": {
    "application/vnd.databricks.v1+cell": {
     "cellMetadata": {
      "byteLimit": 2048000,
      "implicitDf": true,
      "rowLimit": 10000
     },
     "inputWidgets": {},
     "nuid": "3d67803a-a29b-4bfa-bc35-5c265f3813ca",
     "showTitle": false,
     "title": ""
    }
   },
   "outputs": [],
   "source": [
    "%sql\n",
    "SELECT * \n",
    "FROM daily_patient_avg\n",
    "WHERE date BETWEEN \"2020-01-17\" AND \"2020-01-31\""
   ]
  },
  {
   "cell_type": "markdown",
   "metadata": {
    "application/vnd.databricks.v1+cell": {
     "cellMetadata": {},
     "inputWidgets": {},
     "nuid": "75966297-4310-4d98-b277-f011419a547b",
     "showTitle": false,
     "title": ""
    }
   },
   "source": [
    "#### 5.0. Process Remaining Records\n",
    "The following cell will land additional files for the rest of 2020 in your source directory. You'll be able to see these process through the first 3 tables in your Delta Lake, but will need to re-run your final query to update your **`daily_patient_avg`** table, since this query uses the trigger once syntax."
   ]
  },
  {
   "cell_type": "code",
   "execution_count": 0,
   "metadata": {
    "application/vnd.databricks.v1+cell": {
     "cellMetadata": {
      "byteLimit": 2048000,
      "rowLimit": 10000
     },
     "inputWidgets": {},
     "nuid": "1503fd1c-3cd2-4026-861a-b414512673a7",
     "showTitle": false,
     "title": ""
    }
   },
   "outputs": [],
   "source": [
    "DA.data_factory.load(continuous=True)"
   ]
  },
  {
   "cell_type": "markdown",
   "metadata": {
    "application/vnd.databricks.v1+cell": {
     "cellMetadata": {},
     "inputWidgets": {},
     "nuid": "f2b7de63-53ae-4520-8f3e-fd865784ae56",
     "showTitle": false,
     "title": ""
    }
   },
   "source": [
    "#### 6.0. Cleaning Up\n",
    "Finally, make sure all streams are stopped."
   ]
  },
  {
   "cell_type": "code",
   "execution_count": 0,
   "metadata": {
    "application/vnd.databricks.v1+cell": {
     "cellMetadata": {
      "byteLimit": 2048000,
      "rowLimit": 10000
     },
     "inputWidgets": {},
     "nuid": "b11eaf47-1dad-42e4-ac6e-aa6c54ef624b",
     "showTitle": false,
     "title": ""
    }
   },
   "outputs": [],
   "source": [
    "DA.cleanup()"
   ]
  },
  {
   "cell_type": "markdown",
   "metadata": {
    "application/vnd.databricks.v1+cell": {
     "cellMetadata": {},
     "inputWidgets": {},
     "nuid": "75f1863f-f88c-4dfd-a1a2-330340d89459",
     "showTitle": false,
     "title": ""
    }
   },
   "source": [
    "#### 7.0. Summary, Additional Topics & Resources\n",
    "Delta Lake and Structured Streaming combine to provide near real-time analytic access to data in the lakehouse. To learn more, check out the following resources:\n",
    "* <a href=\"https://docs.databricks.com/delta/delta-streaming.html\" target=\"_blank\">Table Streaming Reads and Writes</a>\n",
    "* <a href=\"https://spark.apache.org/docs/latest/structured-streaming-programming-guide.html\" target=\"_blank\">Structured Streaming Programming Guide</a>\n",
    "* <a href=\"https://www.youtube.com/watch?v=rl8dIzTpxrI\" target=\"_blank\">A Deep Dive into Structured Streaming</a> by Tathagata Das. This is an excellent video describing how Structured Streaming works.\n",
    "* <a href=\"https://databricks.com/glossary/lambda-architecture\" target=\"_blank\">Lambda Architecture</a>\n",
    "* <a href=\"https://bennyaustin.wordpress.com/2010/05/02/kimball-and-inmon-dw-models/#\" target=\"_blank\">Data Warehouse Models</a>\n",
    "* <a href=\"http://spark.apache.org/docs/latest/structured-streaming-kafka-integration.html\" target=\"_blank\">Create a Kafka Source Stream</a>"
   ]
  }
 ],
 "metadata": {
  "application/vnd.databricks.v1+notebook": {
   "dashboards": [],
   "language": "python",
   "notebookMetadata": {
    "mostRecentlyExecutedCommandWithImplicitDF": {
     "commandId": 117674443177053,
     "dataframes": [
      "_sqldf"
     ]
    },
    "pythonIndentUnit": 4
   },
   "notebookName": "5.0-Multi-Stage-Processing-Architecture",
   "widgets": {}
  }
 },
 "nbformat": 4,
 "nbformat_minor": 0
}
