{
 "cells": [
  {
   "cell_type": "markdown",
   "id": "209e78d4-6dc7-4719-b542-88ba738bef17",
   "metadata": {},
   "source": [
    "## Demo 1: QuickStart with PySpark in Jupyter Notebooks\n",
    "This exercise will assist students with configuring their environment to run PySpark. Configurations will differ slightly between computers running Microsoft Windows and those running the MacOS.  Because Spark and Hadoop were both originally developed for UNIX operating systems (e.g., Ubuntu, Linux), configuration is slightly simpler for the, UNIX-based, MacIntosh OS. There are a few extra steps required to run Spark on the Windows platform so that it can interact with the underlying Hadoop file system (HDFS) in order to save data and schema definitions.\n",
    "\n",
    "#### Overall, the steps are as follows:\n",
    "- Confirm that <a href=\"https://www.anaconda.com/download/success\"><b>Anaconda Python with Jupyter Notebooks</b></a> is already installed on your computer.\n",
    "    - Create a new Conda Environment that uses Python version 3.12.7 and the Anaconda libraries. `conda create -n pysparkenv python==3.12.7 anaconda`\n",
    "    - Activate the new Conda Environment. `conda activate pysparkenv`\n",
    "    - Install the Jupyter library in the new environment. `python -m pip install ipykernel`\n",
    "    - Make the Jupyter kernel available. `python -m ipykernel install --user --name pysparkenv --display-name \"Python 3 (pysparkenv)\"`\n",
    "- Download and install the <a href=\"https://www.oracle.com/java/technologies/downloads/\"><b>Java 21 runtime</b></a>.\n",
    "    - (Windows ONLY) Ensure you change the default installation path from `\"C:\\Program Files\\Java\\jdk-21\"` to `\"C:\\Java\\jdk-21\"`.\n",
    "- **Windows ONLY:**\n",
    "    - Download <a href=\"https://www.apache.org/dyn/closer.lua/spark/spark-3.5.4/spark-3.5.4-bin-hadoop3.tgz\"><b>Apache Spark release 3.4.5 (Dec 20 2024)</b></a>, package type <b>Pre-built for Apache Hadoop 3.3 and later</b>. Copy it to `C:\\spark-4.5.4-bin-hadoop3`.\n",
    "    - Download <a href=\"https://github.com/cdarlint/winutils\"><b>Winutils Hadoop-3.3.6</b></a> and copy it to `C:\\hadoop-3.3.6`. \n",
    "    - Configure Local User Environmental Variables:\n",
    "      - <b>JAVA_HOME</b> that points to the `C:\\Java\\jdk-21` directory.\n",
    "      - <b>SPARK_HOME</b> that points to the `C:\\spark-3.5.4-bin-hadoop3` directory.\n",
    "      - <b>HADOOP_HOME</b> that points to the `C:\\hadoop-3.3.6` directory.\n",
    "  - Append the `%JAVA_HOME%\\bin`, `%SPARK_HOME%\\bin` and `%HADOOP_HOME%\\bin` paths to the <b>Path</b> variable without overwriting any of the existing entries.\n",
    "- **Mac ONLY** Use the Python Installer Program (PIP) to install <b>Spark</b> and <b>PySpark</b> in your Anaconda Python Environment.\n",
    "  - `python -m pip install spark`\n",
    "  - `python -m pip install pyspark`\n",
    "- Use the Python Installer Program (PIP) to install <b>findpark</b> in your Anaconda Python environment; `python -m pip install findspark`.\n",
    "- Use the Python Installer Program (PIP) to install <b>Delta Lake</b> support in your Anaconda Python environment; `python -m pip install delta-spark==3.3.0`\n",
    "\n",
    "#### Import Required Libraries"
   ]
  },
  {
   "cell_type": "code",
   "execution_count": 1,
   "id": "af67835d-0dd5-461c-9f66-ad60bc27ff74",
   "metadata": {},
   "outputs": [
    {
     "data": {
      "text/plain": [
       "'C:\\\\spark-3.5.4-bin-hadoop3'"
      ]
     },
     "execution_count": 1,
     "metadata": {},
     "output_type": "execute_result"
    }
   ],
   "source": [
    "import findspark\n",
    "findspark.init()\n",
    "findspark.find()"
   ]
  },
  {
   "cell_type": "code",
   "execution_count": 2,
   "id": "2254708f-fdba-42af-ae1f-add9b66b07a8",
   "metadata": {},
   "outputs": [],
   "source": [
    "import os\n",
    "import sys\n",
    "import shutil\n",
    "\n",
    "from pyspark import SparkConf\n",
    "from pyspark.sql import SparkSession\n",
    "from pyspark.sql.functions import *\n",
    "from pyspark.sql.types import *"
   ]
  },
  {
   "cell_type": "markdown",
   "id": "d6790814-6b8e-4652-b050-f2a2c8562fc9",
   "metadata": {},
   "source": [
    "#### Instantiate Global Variables"
   ]
  },
  {
   "cell_type": "code",
   "execution_count": 3,
   "id": "61fa9a29-3e88-4b30-961e-03ad5356daf4",
   "metadata": {},
   "outputs": [],
   "source": [
    "# --------------------------------------------------------------------------------\n",
    "# Specify Directory Structure for Source Data\n",
    "# --------------------------------------------------------------------------------\n",
    "base_dir = os.path.join(os.getcwd(), 'lab_data')\n",
    "data_dir = os.path.join(base_dir, 'retail-org')\n",
    "customers_dir = os.path.join(data_dir, \"customers\")\n",
    "\n",
    "# --------------------------------------------------------------------------------\n",
    "# Create Directory Structure for Data Lakehouse Files\n",
    "# --------------------------------------------------------------------------------\n",
    "dest_database = \"quickstart\"\n",
    "sql_warehouse_dir = os.path.abspath('spark-warehouse')\n",
    "dest_database_dir = f\"{dest_database}.db\"\n",
    "database_dir = os.path.join(sql_warehouse_dir, dest_database_dir)"
   ]
  },
  {
   "cell_type": "markdown",
   "id": "a04c6e0d-a7f4-477f-a2a2-57fa6932096e",
   "metadata": {},
   "source": [
    "#### Define Utilities"
   ]
  },
  {
   "cell_type": "code",
   "execution_count": 4,
   "id": "9bb70c56-55e3-4656-8634-0cfa7d944131",
   "metadata": {},
   "outputs": [],
   "source": [
    "def remove_directory_tree(path: str):\n",
    "    '''If it exists, remove the entire contents of a directory structure at a given 'path' parameter's location.'''\n",
    "    try:\n",
    "        if os.path.exists(path):\n",
    "            shutil.rmtree(path)\n",
    "            return f\"Directory '{path}' has been removed successfully.\"\n",
    "        else:\n",
    "            return f\"Directory '{path}' does not exist.\"\n",
    "            \n",
    "    except Exception as e:\n",
    "        return f\"An error occurred: {e}\""
   ]
  },
  {
   "cell_type": "markdown",
   "id": "4695da09-b727-4763-b75d-a5ec4c9da951",
   "metadata": {},
   "source": [
    "#### Create a New Spark Session"
   ]
  },
  {
   "cell_type": "code",
   "execution_count": 5,
   "id": "e0b9db63-a330-4e9c-897f-40765e5d0724",
   "metadata": {},
   "outputs": [
    {
     "data": {
      "text/html": [
       "\n",
       "            <div>\n",
       "                <p><b>SparkSession - in-memory</b></p>\n",
       "                \n",
       "        <div>\n",
       "            <p><b>SparkContext</b></p>\n",
       "\n",
       "            <p><a href=\"http://JT-5570:4040\">Spark UI</a></p>\n",
       "\n",
       "            <dl>\n",
       "              <dt>Version</dt>\n",
       "                <dd><code>v3.5.4</code></dd>\n",
       "              <dt>Master</dt>\n",
       "                <dd><code>local[10]</code></dd>\n",
       "              <dt>AppName</dt>\n",
       "                <dd><code>PySpark Quickstart in Juptyer</code></dd>\n",
       "            </dl>\n",
       "        </div>\n",
       "        \n",
       "            </div>\n",
       "        "
      ],
      "text/plain": [
       "<pyspark.sql.session.SparkSession at 0x1bf89db4680>"
      ]
     },
     "execution_count": 5,
     "metadata": {},
     "output_type": "execute_result"
    }
   ],
   "source": [
    "worker_threads = f\"local[{int(os.cpu_count()/2)}]\"\n",
    "shuffle_partitions = int(os.cpu_count())\n",
    "\n",
    "sparkConf = SparkConf().setAppName('PySpark Quickstart in Juptyer')\\\n",
    "    .setMaster(worker_threads)\\\n",
    "    .set('spark.executor.memory', '2g')\\\n",
    "    .set('spark.driver.memory', '4g') \\\n",
    "    .set('spark.sql.shuffle.partitions', shuffle_partitions) \\\n",
    "    .set('spark.sql.warehouse.dir', sql_warehouse_dir)\n",
    "\n",
    "spark = SparkSession.builder.config(conf=sparkConf).getOrCreate()\n",
    "spark"
   ]
  },
  {
   "cell_type": "markdown",
   "id": "45dbaf21-03cb-426a-b18a-6edece912b9f",
   "metadata": {},
   "source": [
    "#### Prepare Filesystem"
   ]
  },
  {
   "cell_type": "code",
   "execution_count": 6,
   "id": "100625cc-9300-456e-8a79-e63418d4ffea",
   "metadata": {},
   "outputs": [
    {
     "data": {
      "text/plain": [
       "\"Directory 'C:\\\\Users\\\\jtupi\\\\Documents\\\\UVA\\\\DS-2002-Teacher\\\\04-PySpark\\\\spark-warehouse\\\\quickstart.db' has been removed successfully.\""
      ]
     },
     "execution_count": 6,
     "metadata": {},
     "output_type": "execute_result"
    }
   ],
   "source": [
    "remove_directory_tree(database_dir)"
   ]
  },
  {
   "cell_type": "markdown",
   "id": "b1d7ca79-8dd0-4fa4-b08e-4c38bedc62fd",
   "metadata": {},
   "source": [
    "#### Read Customer data from a CSV File"
   ]
  },
  {
   "cell_type": "code",
   "execution_count": 7,
   "id": "24868e25-4fde-43a5-8262-1c9b74b10ac1",
   "metadata": {},
   "outputs": [
    {
     "name": "stdout",
     "output_type": "stream",
     "text": [
      "C:\\Users\\jtupi\\Documents\\UVA\\DS-2002-Teacher\\04-PySpark\\lab_data\\retail-org\\customers\\customers.csv\n"
     ]
    }
   ],
   "source": [
    "customers_csv = os.path.join(customers_dir, \"customers.csv\")\n",
    "print(customers_csv)"
   ]
  },
  {
   "cell_type": "code",
   "execution_count": 8,
   "id": "fe6c9d09-530a-40d6-9277-083ac725e393",
   "metadata": {},
   "outputs": [
    {
     "name": "stdout",
     "output_type": "stream",
     "text": [
      "The 'df_customers' object is of type: <class 'pyspark.sql.dataframe.DataFrame'>.\n",
      "root\n",
      " |-- customer_id: integer (nullable = true)\n",
      " |-- tax_id: double (nullable = true)\n",
      " |-- tax_code: string (nullable = true)\n",
      " |-- customer_name: string (nullable = true)\n",
      " |-- state: string (nullable = true)\n",
      " |-- city: string (nullable = true)\n",
      " |-- postcode: string (nullable = true)\n",
      " |-- street: string (nullable = true)\n",
      " |-- number: string (nullable = true)\n",
      " |-- unit: string (nullable = true)\n",
      " |-- region: string (nullable = true)\n",
      " |-- district: string (nullable = true)\n",
      " |-- lon: double (nullable = true)\n",
      " |-- lat: double (nullable = true)\n",
      " |-- ship_to_address: string (nullable = true)\n",
      " |-- valid_from: integer (nullable = true)\n",
      " |-- valid_to: double (nullable = true)\n",
      " |-- units_purchased: double (nullable = true)\n",
      " |-- loyalty_segment: integer (nullable = true)\n",
      "\n",
      "The 'df_customers' DataFrame contains 28813 rows.\n"
     ]
    },
    {
     "data": {
      "text/html": [
       "<div>\n",
       "<style scoped>\n",
       "    .dataframe tbody tr th:only-of-type {\n",
       "        vertical-align: middle;\n",
       "    }\n",
       "\n",
       "    .dataframe tbody tr th {\n",
       "        vertical-align: top;\n",
       "    }\n",
       "\n",
       "    .dataframe thead th {\n",
       "        text-align: right;\n",
       "    }\n",
       "</style>\n",
       "<table border=\"1\" class=\"dataframe\">\n",
       "  <thead>\n",
       "    <tr style=\"text-align: right;\">\n",
       "      <th></th>\n",
       "      <th>customer_id</th>\n",
       "      <th>tax_id</th>\n",
       "      <th>tax_code</th>\n",
       "      <th>customer_name</th>\n",
       "      <th>state</th>\n",
       "      <th>city</th>\n",
       "      <th>postcode</th>\n",
       "      <th>street</th>\n",
       "      <th>number</th>\n",
       "      <th>unit</th>\n",
       "      <th>region</th>\n",
       "      <th>district</th>\n",
       "      <th>lon</th>\n",
       "      <th>lat</th>\n",
       "      <th>ship_to_address</th>\n",
       "      <th>valid_from</th>\n",
       "      <th>valid_to</th>\n",
       "      <th>units_purchased</th>\n",
       "      <th>loyalty_segment</th>\n",
       "    </tr>\n",
       "  </thead>\n",
       "  <tbody>\n",
       "    <tr>\n",
       "      <th>0</th>\n",
       "      <td>11123757</td>\n",
       "      <td>NaN</td>\n",
       "      <td>None</td>\n",
       "      <td>SMITH,  SHIRLEY</td>\n",
       "      <td>IN</td>\n",
       "      <td>BREMEN</td>\n",
       "      <td>46506.0</td>\n",
       "      <td>N CENTER ST</td>\n",
       "      <td>521.0</td>\n",
       "      <td>None</td>\n",
       "      <td>Indiana</td>\n",
       "      <td>50.0</td>\n",
       "      <td>-86.146582</td>\n",
       "      <td>41.450763</td>\n",
       "      <td>IN, 46506.0, N CENTER ST, 521.0</td>\n",
       "      <td>1532824233</td>\n",
       "      <td>1.548137e+09</td>\n",
       "      <td>34.0</td>\n",
       "      <td>3</td>\n",
       "    </tr>\n",
       "    <tr>\n",
       "      <th>1</th>\n",
       "      <td>30585978</td>\n",
       "      <td>NaN</td>\n",
       "      <td>None</td>\n",
       "      <td>STEPHENS,  GERALDINE M</td>\n",
       "      <td>OR</td>\n",
       "      <td>ADDRESS</td>\n",
       "      <td>0</td>\n",
       "      <td>NO SITUS</td>\n",
       "      <td>None</td>\n",
       "      <td>None</td>\n",
       "      <td>None</td>\n",
       "      <td>None</td>\n",
       "      <td>-122.105516</td>\n",
       "      <td>45.374317</td>\n",
       "      <td>OR, 0, NO SITUS, nan</td>\n",
       "      <td>1523100473</td>\n",
       "      <td>NaN</td>\n",
       "      <td>18.0</td>\n",
       "      <td>3</td>\n",
       "    </tr>\n",
       "    <tr>\n",
       "      <th>2</th>\n",
       "      <td>349822</td>\n",
       "      <td>NaN</td>\n",
       "      <td>None</td>\n",
       "      <td>GUZMAN,  CARMEN</td>\n",
       "      <td>VA</td>\n",
       "      <td>VIENNA</td>\n",
       "      <td>22181</td>\n",
       "      <td>HILL RD</td>\n",
       "      <td>2860</td>\n",
       "      <td>None</td>\n",
       "      <td>VA</td>\n",
       "      <td>None</td>\n",
       "      <td>-77.294126</td>\n",
       "      <td>38.883033</td>\n",
       "      <td>VA, 22181, HILL RD, 2860</td>\n",
       "      <td>1522922493</td>\n",
       "      <td>NaN</td>\n",
       "      <td>5.0</td>\n",
       "      <td>0</td>\n",
       "    </tr>\n",
       "    <tr>\n",
       "      <th>3</th>\n",
       "      <td>27652636</td>\n",
       "      <td>NaN</td>\n",
       "      <td>None</td>\n",
       "      <td>HASSETT,  PATRICK J</td>\n",
       "      <td>WI</td>\n",
       "      <td>VILLAGE OF NASHOTAH</td>\n",
       "      <td>53058.0</td>\n",
       "      <td>IVY LANE</td>\n",
       "      <td>W333N 5591</td>\n",
       "      <td>None</td>\n",
       "      <td>None</td>\n",
       "      <td>None</td>\n",
       "      <td>-88.409517</td>\n",
       "      <td>43.121379</td>\n",
       "      <td>WI, 53058.0, IVY LANE, W333N 5591</td>\n",
       "      <td>1531834357</td>\n",
       "      <td>1.558052e+09</td>\n",
       "      <td>7.0</td>\n",
       "      <td>1</td>\n",
       "    </tr>\n",
       "    <tr>\n",
       "      <th>4</th>\n",
       "      <td>14437343</td>\n",
       "      <td>NaN</td>\n",
       "      <td>None</td>\n",
       "      <td>HENTZ,  DIANA L</td>\n",
       "      <td>OH</td>\n",
       "      <td>COLUMBUS</td>\n",
       "      <td>43228.0</td>\n",
       "      <td>ALLIANCE WAY</td>\n",
       "      <td>5706</td>\n",
       "      <td>None</td>\n",
       "      <td>OH</td>\n",
       "      <td>FRA</td>\n",
       "      <td>-83.158438</td>\n",
       "      <td>39.978218</td>\n",
       "      <td>OH, 43228.0, ALLIANCE WAY, 5706</td>\n",
       "      <td>1517227530</td>\n",
       "      <td>NaN</td>\n",
       "      <td>0.0</td>\n",
       "      <td>0</td>\n",
       "    </tr>\n",
       "  </tbody>\n",
       "</table>\n",
       "</div>"
      ],
      "text/plain": [
       "   customer_id  tax_id tax_code           customer_name state  \\\n",
       "0     11123757     NaN     None         SMITH,  SHIRLEY    IN   \n",
       "1     30585978     NaN     None  STEPHENS,  GERALDINE M    OR   \n",
       "2       349822     NaN     None         GUZMAN,  CARMEN    VA   \n",
       "3     27652636     NaN     None     HASSETT,  PATRICK J    WI   \n",
       "4     14437343     NaN     None         HENTZ,  DIANA L    OH   \n",
       "\n",
       "                  city postcode        street      number  unit   region  \\\n",
       "0               BREMEN  46506.0   N CENTER ST       521.0  None  Indiana   \n",
       "1              ADDRESS        0      NO SITUS        None  None     None   \n",
       "2               VIENNA    22181       HILL RD        2860  None       VA   \n",
       "3  VILLAGE OF NASHOTAH  53058.0      IVY LANE  W333N 5591  None     None   \n",
       "4             COLUMBUS  43228.0  ALLIANCE WAY        5706  None       OH   \n",
       "\n",
       "  district         lon        lat                    ship_to_address  \\\n",
       "0     50.0  -86.146582  41.450763    IN, 46506.0, N CENTER ST, 521.0   \n",
       "1     None -122.105516  45.374317               OR, 0, NO SITUS, nan   \n",
       "2     None  -77.294126  38.883033           VA, 22181, HILL RD, 2860   \n",
       "3     None  -88.409517  43.121379  WI, 53058.0, IVY LANE, W333N 5591   \n",
       "4      FRA  -83.158438  39.978218    OH, 43228.0, ALLIANCE WAY, 5706   \n",
       "\n",
       "   valid_from      valid_to  units_purchased  loyalty_segment  \n",
       "0  1532824233  1.548137e+09             34.0                3  \n",
       "1  1523100473           NaN             18.0                3  \n",
       "2  1522922493           NaN              5.0                0  \n",
       "3  1531834357  1.558052e+09              7.0                1  \n",
       "4  1517227530           NaN              0.0                0  "
      ]
     },
     "execution_count": 8,
     "metadata": {},
     "output_type": "execute_result"
    }
   ],
   "source": [
    "df_customers = spark.read.format('csv').options(header='true', inferSchema=True).load(customers_csv)\n",
    "\n",
    "# Unit Test -------------\n",
    "print(f\"The 'df_customers' object is of type: {type(df_customers)}.\")\n",
    "df_customers.printSchema()\n",
    "\n",
    "print(f\"The 'df_customers' DataFrame contains {df_customers.count()} rows.\")\n",
    "df_customers.toPandas().head(5)"
   ]
  },
  {
   "cell_type": "markdown",
   "id": "c2a83c33-9ee0-4e35-8959-44c8b0b5c3c8",
   "metadata": {},
   "source": [
    "#### Persist the 'df_customers' DataFrame as a New Table in the Data Lakehouse\n",
    "##### Create a New Data Lakehouse Database"
   ]
  },
  {
   "cell_type": "code",
   "execution_count": 9,
   "id": "2b44cc38-9ee4-4b4f-81f3-2a2dc1cf9159",
   "metadata": {},
   "outputs": [
    {
     "data": {
      "text/plain": [
       "DataFrame[]"
      ]
     },
     "execution_count": 9,
     "metadata": {},
     "output_type": "execute_result"
    }
   ],
   "source": [
    "spark.sql(f\"DROP DATABASE IF EXISTS {dest_database};\")\n",
    "spark.sql(f\"CREATE DATABASE {dest_database};\")"
   ]
  },
  {
   "cell_type": "markdown",
   "id": "b6abcf27-9628-46d6-b3c2-2a013eb1c8d5",
   "metadata": {},
   "source": [
    "##### Create the 'customers' table."
   ]
  },
  {
   "cell_type": "code",
   "execution_count": 10,
   "id": "78315a27-ef78-4619-b6a3-96f0b95218f9",
   "metadata": {
    "scrolled": true
   },
   "outputs": [],
   "source": [
    "df_customers.write.saveAsTable(f\"{dest_database}.customers\", mode=\"overwrite\")"
   ]
  },
  {
   "cell_type": "code",
   "execution_count": 11,
   "id": "0207c1d2-6a2c-4790-bdeb-249799f306f6",
   "metadata": {},
   "outputs": [
    {
     "data": {
      "text/html": [
       "<div>\n",
       "<style scoped>\n",
       "    .dataframe tbody tr th:only-of-type {\n",
       "        vertical-align: middle;\n",
       "    }\n",
       "\n",
       "    .dataframe tbody tr th {\n",
       "        vertical-align: top;\n",
       "    }\n",
       "\n",
       "    .dataframe thead th {\n",
       "        text-align: right;\n",
       "    }\n",
       "</style>\n",
       "<table border=\"1\" class=\"dataframe\">\n",
       "  <thead>\n",
       "    <tr style=\"text-align: right;\">\n",
       "      <th></th>\n",
       "      <th>customer_id</th>\n",
       "      <th>customer_name</th>\n",
       "      <th>address</th>\n",
       "      <th>city</th>\n",
       "      <th>state</th>\n",
       "      <th>postcode</th>\n",
       "      <th>units_purchased</th>\n",
       "    </tr>\n",
       "  </thead>\n",
       "  <tbody>\n",
       "    <tr>\n",
       "      <th>0</th>\n",
       "      <td>3010389</td>\n",
       "      <td>CLAYTON,  LATOYA</td>\n",
       "      <td>7840 CREEKSIDE CENTER DR</td>\n",
       "      <td>None</td>\n",
       "      <td>AK</td>\n",
       "      <td>99504</td>\n",
       "      <td>16</td>\n",
       "    </tr>\n",
       "    <tr>\n",
       "      <th>1</th>\n",
       "      <td>2995184</td>\n",
       "      <td>PROSPER,  DEVONNE E</td>\n",
       "      <td>12431 ALPINE DR</td>\n",
       "      <td>None</td>\n",
       "      <td>AK</td>\n",
       "      <td>99516</td>\n",
       "      <td>1</td>\n",
       "    </tr>\n",
       "    <tr>\n",
       "      <th>2</th>\n",
       "      <td>2968489</td>\n",
       "      <td>TAMPIER,  CHRISTOPHER M</td>\n",
       "      <td>3916 STARBURST CIR</td>\n",
       "      <td>None</td>\n",
       "      <td>AK</td>\n",
       "      <td>99517</td>\n",
       "      <td>0</td>\n",
       "    </tr>\n",
       "    <tr>\n",
       "      <th>3</th>\n",
       "      <td>2974347</td>\n",
       "      <td>GARNER,  MARLO B</td>\n",
       "      <td>8100 PETERSBURG ST</td>\n",
       "      <td>None</td>\n",
       "      <td>AK</td>\n",
       "      <td>99507</td>\n",
       "      <td>3</td>\n",
       "    </tr>\n",
       "    <tr>\n",
       "      <th>4</th>\n",
       "      <td>2845292</td>\n",
       "      <td>NITSCHKE,  ALEXANDRA D</td>\n",
       "      <td>68815 JUDY CT</td>\n",
       "      <td>HAPPY VALLEY</td>\n",
       "      <td>AK</td>\n",
       "      <td>99639.0</td>\n",
       "      <td>9</td>\n",
       "    </tr>\n",
       "  </tbody>\n",
       "</table>\n",
       "</div>"
      ],
      "text/plain": [
       "   customer_id            customer_name                   address  \\\n",
       "0      3010389         CLAYTON,  LATOYA  7840 CREEKSIDE CENTER DR   \n",
       "1      2995184      PROSPER,  DEVONNE E           12431 ALPINE DR   \n",
       "2      2968489  TAMPIER,  CHRISTOPHER M        3916 STARBURST CIR   \n",
       "3      2974347         GARNER,  MARLO B        8100 PETERSBURG ST   \n",
       "4      2845292   NITSCHKE,  ALEXANDRA D             68815 JUDY CT   \n",
       "\n",
       "           city state postcode  units_purchased  \n",
       "0          None    AK    99504               16  \n",
       "1          None    AK    99516                1  \n",
       "2          None    AK    99517                0  \n",
       "3          None    AK    99507                3  \n",
       "4  HAPPY VALLEY    AK  99639.0                9  "
      ]
     },
     "execution_count": 11,
     "metadata": {},
     "output_type": "execute_result"
    }
   ],
   "source": [
    "# Unit Test ------------------------------------\n",
    "sql_customers = f\"\"\"\n",
    "    SELECT customer_id\n",
    "        , customer_name\n",
    "        , CONCAT(number, \" \", street) AS address\n",
    "        , city\n",
    "        , state\n",
    "        , postcode\n",
    "        , FLOOR(units_purchased) AS units_purchased\n",
    "    FROM {dest_database}.customers\n",
    "    ORDER BY state ASC;\n",
    "\"\"\"\n",
    "\n",
    "spark.sql(sql_customers).toPandas().head(5)"
   ]
  },
  {
   "cell_type": "markdown",
   "id": "c0822d26-5e3b-44b4-bb55-b81efe4b2a27",
   "metadata": {},
   "source": [
    "#### Who are my best customers? (i.e., Which customers purchased the most product?)"
   ]
  },
  {
   "cell_type": "code",
   "execution_count": 12,
   "id": "5544d0b5-f4d5-441c-a689-f0297d7582de",
   "metadata": {},
   "outputs": [
    {
     "data": {
      "text/html": [
       "<div>\n",
       "<style scoped>\n",
       "    .dataframe tbody tr th:only-of-type {\n",
       "        vertical-align: middle;\n",
       "    }\n",
       "\n",
       "    .dataframe tbody tr th {\n",
       "        vertical-align: top;\n",
       "    }\n",
       "\n",
       "    .dataframe thead th {\n",
       "        text-align: right;\n",
       "    }\n",
       "</style>\n",
       "<table border=\"1\" class=\"dataframe\">\n",
       "  <thead>\n",
       "    <tr style=\"text-align: right;\">\n",
       "      <th></th>\n",
       "      <th>Customer</th>\n",
       "      <th>Total_Units_Purchased</th>\n",
       "    </tr>\n",
       "  </thead>\n",
       "  <tbody>\n",
       "    <tr>\n",
       "      <th>0</th>\n",
       "      <td>statusdigital</td>\n",
       "      <td>876</td>\n",
       "    </tr>\n",
       "    <tr>\n",
       "      <th>1</th>\n",
       "      <td>genesis electronics recycling</td>\n",
       "      <td>866</td>\n",
       "    </tr>\n",
       "    <tr>\n",
       "      <th>2</th>\n",
       "      <td>digital attic</td>\n",
       "      <td>842</td>\n",
       "    </tr>\n",
       "    <tr>\n",
       "      <th>3</th>\n",
       "      <td>digital lifestyle solutions</td>\n",
       "      <td>828</td>\n",
       "    </tr>\n",
       "    <tr>\n",
       "      <th>4</th>\n",
       "      <td>helios electronics limited</td>\n",
       "      <td>814</td>\n",
       "    </tr>\n",
       "    <tr>\n",
       "      <th>5</th>\n",
       "      <td>popster digital</td>\n",
       "      <td>812</td>\n",
       "    </tr>\n",
       "    <tr>\n",
       "      <th>6</th>\n",
       "      <td>mct digital</td>\n",
       "      <td>784</td>\n",
       "    </tr>\n",
       "    <tr>\n",
       "      <th>7</th>\n",
       "      <td>bradsworth digital solutions, inc</td>\n",
       "      <td>782</td>\n",
       "    </tr>\n",
       "    <tr>\n",
       "      <th>8</th>\n",
       "      <td>epi-electrochemical products inc</td>\n",
       "      <td>780</td>\n",
       "    </tr>\n",
       "    <tr>\n",
       "      <th>9</th>\n",
       "      <td>modern digital imaging</td>\n",
       "      <td>769</td>\n",
       "    </tr>\n",
       "    <tr>\n",
       "      <th>10</th>\n",
       "      <td>rpm optoelectronics</td>\n",
       "      <td>762</td>\n",
       "    </tr>\n",
       "  </tbody>\n",
       "</table>\n",
       "</div>"
      ],
      "text/plain": [
       "                             Customer  Total_Units_Purchased\n",
       "0                       statusdigital                    876\n",
       "1       genesis electronics recycling                    866\n",
       "2                       digital attic                    842\n",
       "3         digital lifestyle solutions                    828\n",
       "4          helios electronics limited                    814\n",
       "5                     popster digital                    812\n",
       "6                         mct digital                    784\n",
       "7   bradsworth digital solutions, inc                    782\n",
       "8    epi-electrochemical products inc                    780\n",
       "9              modern digital imaging                    769\n",
       "10                rpm optoelectronics                    762"
      ]
     },
     "execution_count": 12,
     "metadata": {},
     "output_type": "execute_result"
    }
   ],
   "source": [
    "sql_best_customers = f\"\"\"\n",
    "    SELECT customer_name AS Customer\n",
    "        , FLOOR(SUM(units_purchased)) AS Total_Units_Purchased\n",
    "    FROM {dest_database}.customers\n",
    "    GROUP BY customer_name\n",
    "    HAVING total_units_purchased >= 750\n",
    "    ORDER BY total_units_purchased DESC;\n",
    "\"\"\"\n",
    "\n",
    "spark.sql(sql_best_customers).toPandas()"
   ]
  },
  {
   "cell_type": "code",
   "execution_count": 13,
   "id": "6d003f2d-da4d-4968-b69b-2587683b6ed3",
   "metadata": {},
   "outputs": [],
   "source": [
    "spark.stop()"
   ]
  }
 ],
 "metadata": {
  "kernelspec": {
   "display_name": "Python 3 (3.12.7-env)",
   "language": "python",
   "name": "3.12.7-env"
  },
  "language_info": {
   "codemirror_mode": {
    "name": "ipython",
    "version": 3
   },
   "file_extension": ".py",
   "mimetype": "text/x-python",
   "name": "python",
   "nbconvert_exporter": "python",
   "pygments_lexer": "ipython3",
   "version": "3.12.7"
  }
 },
 "nbformat": 4,
 "nbformat_minor": 5
}
